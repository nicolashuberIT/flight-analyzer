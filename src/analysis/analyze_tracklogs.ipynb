{
 "cells": [
  {
   "cell_type": "markdown",
   "metadata": {},
   "source": [
    "# Documentation\n",
    "\n",
    "This analysis tool helps you to evaluate whether a tracklog is suitable for being processed by the algorithms of the `flight-analyzer` application. To `INPUT_DIRECTORY` you can either insert a path to a directory full of already preprocessed .csv files or you can alternatively insert a path to a directory full of .igc files, which is the application this tool is designed for. \n",
    "\n",
    "To run this analysis tool make sure to enter a valid path to `INPUT_DIRECTORY` and set the `MODE` according to the files in your directory. The tool will then plot the flight and the according altitude graph so you can evaluate by eye if you want to delete a flight for further processing due to poor data quality etc. \n",
    "\n",
    "This tool is meant to prepare a set of flights, e.g. .igc files, which can then be manually preprocessed and fed into the algorithms of the `flight-analyzer` tool.\n",
    "\n",
    "Happy processing!"
   ]
  },
  {
   "cell_type": "markdown",
   "metadata": {},
   "source": [
    "# Imports"
   ]
  },
  {
   "cell_type": "code",
   "execution_count": null,
   "metadata": {},
   "outputs": [],
   "source": [
    "import os\n",
    "import sys\n",
    "import pandas as pd\n",
    "from typing import List\n",
    "\n",
    "# AI content (GitHub Copilot, 02/07/2024), verified and adapted by Nicolas Huber.\n",
    "src_directory: str = os.path.join(os.getcwd(), \"..\")\n",
    "sys.path.append(src_directory)\n",
    "\n",
    "import constants as constants\n",
    "import packages.IGC2CSV as igc2csv\n",
    "import helpers.data_visualizer as datavisualizer"
   ]
  },
  {
   "cell_type": "markdown",
   "metadata": {},
   "source": [
    "# Variables"
   ]
  },
  {
   "cell_type": "code",
   "execution_count": null,
   "metadata": {},
   "outputs": [],
   "source": [
    "INPUT_DIRECTORY: str = \"INPUT_DIRECTORY\"\n",
    "MODE: str = \"igc\" # either \"igc\" or \"csv\""
   ]
  },
  {
   "cell_type": "markdown",
   "metadata": {},
   "source": [
    "# Initialisation"
   ]
  },
  {
   "cell_type": "code",
   "execution_count": null,
   "metadata": {},
   "outputs": [],
   "source": [
    "Visualizer: datavisualizer.DataVisualizer = datavisualizer.DataVisualizer()\n",
    "Converter: igc2csv.IGC2CSV = igc2csv.IGC2CSV()"
   ]
  },
  {
   "cell_type": "markdown",
   "metadata": {},
   "source": [
    "# List Files"
   ]
  },
  {
   "cell_type": "code",
   "execution_count": null,
   "metadata": {},
   "outputs": [],
   "source": [
    "input_files: List[str] = []\n",
    "\n",
    "if MODE == \"igc\":\n",
    "    input_files = [f for f in os.listdir(INPUT_DIRECTORY) if os.path.isfile(os.path.join(INPUT_DIRECTORY, f)) and (f.endswith('.igc'))]   \n",
    "elif MODE == \"csv\":\n",
    "    input_files = [f for f in os.listdir(INPUT_DIRECTORY) if os.path.isfile(os.path.join(INPUT_DIRECTORY, f)) and (f.endswith('.csv'))]\n",
    "else:\n",
    "    raise ValueError(\"MODE must be either 'igc' or 'csv'\")\n",
    "\n",
    "input_files.sort() "
   ]
  },
  {
   "cell_type": "markdown",
   "metadata": {},
   "source": [
    "# Flight Visualisations"
   ]
  },
  {
   "cell_type": "code",
   "execution_count": null,
   "metadata": {},
   "outputs": [],
   "source": [
    "for file in input_files:\n",
    "    print(f\"Flight visualisation for file: {file}\")\n",
    "    \n",
    "    if MODE == \"igc\":    \n",
    "        data = Converter.process_files(f\"{INPUT_DIRECTORY}/{file}\", False)\n",
    "        data_flight_analyzer = Converter.export_to_flight_analyzer_format(data=data)\n",
    "    else:\n",
    "        data_flight_analyzer = pd.read_csv(f\"{INPUT_DIRECTORY}/{file}\")\n",
    "        \n",
    "    Visualizer.visualize_points_colored(df=data_flight_analyzer)\n",
    "    Visualizer.visualize_altitude(df=data_flight_analyzer)\n",
    "    print()"
   ]
  },
  {
   "cell_type": "markdown",
   "metadata": {},
   "source": [
    "# System Info"
   ]
  },
  {
   "cell_type": "code",
   "execution_count": null,
   "metadata": {},
   "outputs": [],
   "source": [
    "print(f\"@ Author {constants.AUTHOR}\")\n",
    "print(f\"@ Author Email {constants.AUTHOR_EMAIL}\")\n",
    "print(f\"@ Author URL {constants.AUTHOR_URL}\")\n",
    "print(f\"@ GitHub URL {constants.GITHUB_URL}\")"
   ]
  }
 ],
 "metadata": {
  "kernelspec": {
   "display_name": "Python 3",
   "language": "python",
   "name": "python3"
  },
  "language_info": {
   "codemirror_mode": {
    "name": "ipython",
    "version": 3
   },
   "file_extension": ".py",
   "mimetype": "text/x-python",
   "name": "python",
   "nbconvert_exporter": "python",
   "pygments_lexer": "ipython3",
   "version": "3.12.0"
  }
 },
 "nbformat": 4,
 "nbformat_minor": 2
}
