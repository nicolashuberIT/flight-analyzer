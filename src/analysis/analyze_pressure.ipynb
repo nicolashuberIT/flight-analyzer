{
 "cells": [
  {
   "cell_type": "markdown",
   "metadata": {},
   "source": [
    "# Documentation\n",
    "\n",
    "This analysis tools helps to visualize & simulate the stagnation pressure at a paraglider wing.\n",
    "\n",
    "Inputs:\n",
    "- INPUT_DIRECTORY: path to the directory containing .igc files\n",
    "- OUTPUT_DIRECTORY: output data will be exported to this directory\n",
    "- FILE_EXTENSION: set to `.igc`"
   ]
  },
  {
   "cell_type": "markdown",
   "metadata": {},
   "source": [
    "# Imports"
   ]
  },
  {
   "cell_type": "code",
   "execution_count": null,
   "metadata": {},
   "outputs": [],
   "source": [
    "import os\n",
    "import sys\n",
    "import pandas as pd\n",
    "from datetime import datetime\n",
    "from typing import List, Tuple\n",
    "\n",
    "# AI content (GitHub Copilot, 02/07/2024), verified and adapted by Nicolas Huber.\n",
    "src_directory: str = os.path.join(os.getcwd(), \"..\")\n",
    "sys.path.append(src_directory)\n",
    "\n",
    "import constants as constants\n",
    "import helpers.file_processor as file_processor\n",
    "import helpers.data_visualizer as data_visualizer\n",
    "import algorithms.speed_analyzer as speed_analyzer\n",
    "import algorithms.c_values_analyzer as c_values_analyzer\n",
    "import algorithms.pressure_analyzer as pressure_analyzer"
   ]
  },
  {
   "cell_type": "markdown",
   "metadata": {},
   "source": [
    "# Variables"
   ]
  },
  {
   "cell_type": "code",
   "execution_count": null,
   "metadata": {},
   "outputs": [],
   "source": [
    "INPUT_DIRECTORY: str = \"INPUT_DIRECTORY/\" # end with \"/\n",
    "OUTPUT_DIRECTORY: str = \"OUTPUT_DIRECTORY\" # end with /\n",
    "FILE_EXTENSION: str = \".igc\""
   ]
  },
  {
   "cell_type": "markdown",
   "metadata": {},
   "source": [
    "# Initialisation"
   ]
  },
  {
   "cell_type": "code",
   "execution_count": null,
   "metadata": {},
   "outputs": [],
   "source": [
    "file_processor = file_processor.FileProcessor()\n",
    "speed_analyzer = speed_analyzer.SpeedAnalyzer()\n",
    "data_visualizer = data_visualizer.DataVisualizer()\n",
    "c_analyzer = c_values_analyzer.CAnalyzer()\n",
    "p_analyzer = pressure_analyzer.PressureAnalyzer()\n",
    "\n",
    "theoretical_reference: pd.DataFrame = pd.read_csv(f\"{constants.THEORETICAL_REFERENCE_PATH}\")\n",
    "\n",
    "timestamp: str = datetime.now().strftime(\"%Y%m%d-%H%M%S\")"
   ]
  },
  {
   "cell_type": "markdown",
   "metadata": {},
   "source": [
    "# File Listing"
   ]
  },
  {
   "cell_type": "code",
   "execution_count": null,
   "metadata": {},
   "outputs": [],
   "source": [
    "file_paths: List[str] = file_processor.get_file_paths(path=INPUT_DIRECTORY, file_extension=FILE_EXTENSION)\n",
    "\n",
    "print(f\"Importing files for the following conditions:\")\n",
    "print(f\"--> Directory: {INPUT_DIRECTORY}\")\n",
    "print(f\"--> File extension: {FILE_EXTENSION}\")\n",
    "print(f\"--> Theoretical polar: {constants.THEORETICAL_REFERENCE_PATH.split(\"/\")[-1]}\")\n",
    "print(f\"--> Original reference: {constants.ORIGINAL_REFERENCE_PATH.split(\"/\")[-1]}\")\n",
    "print()\n",
    "print(\"Files:\")\n",
    "print(f\"--> Found {len(file_paths)} files.\")\n",
    "print(f\"--> The processing is initiated.\")"
   ]
  },
  {
   "cell_type": "markdown",
   "metadata": {},
   "source": [
    "# File Processing"
   ]
  },
  {
   "cell_type": "code",
   "execution_count": null,
   "metadata": {},
   "outputs": [],
   "source": [
    "data_raw: pd.DataFrame = speed_analyzer.process_raw_data(file_paths=file_paths)"
   ]
  },
  {
   "cell_type": "markdown",
   "metadata": {},
   "source": [
    "# Data Preprocessing"
   ]
  },
  {
   "cell_type": "code",
   "execution_count": null,
   "metadata": {},
   "outputs": [],
   "source": [
    "# igc data\n",
    "theoretical_reference_filtered: pd.DataFrame = speed_analyzer.filter_raw_data(data=theoretical_reference, reference=True)\n",
    "data_raw_filtered: pd.DataFrame = speed_analyzer.filter_raw_data(data=data_raw)\n",
    "\n",
    "print(f\"Filtered data:\")\n",
    "print(f\"--> Data points for filtered theoretical reference: {len(theoretical_reference_filtered)} (lost {len(theoretical_reference) - len(theoretical_reference_filtered)})\")\n",
    "print(f\"--> Data points for filtered tracklogs: {len(data_raw_filtered)} (lost {len(data_raw) - len(data_raw_filtered)})\")\n",
    "print()\n",
    "\n",
    "# smooth and filter igc data\n",
    "smoothed_data_raw: pd.DataFrame = speed_analyzer.savgol_filter(data=data_raw_filtered)\n",
    "smoothed_data_grouped: pd.DataFrame = speed_analyzer.group_data(data=smoothed_data_raw)\n",
    "\n",
    "print(f\"Data smoothing:\")\n",
    "print(f\"--> During smoothing, the raw data points were reduced from {len(data_raw_filtered)} to {len(smoothed_data_raw)} (lost {len(data_raw_filtered) - len(smoothed_data_raw)}).\")\n",
    "print(f\"--> During grouping, the smoothed data points were reduced from {len(smoothed_data_raw)} to {len(smoothed_data_grouped)} (lost {len(smoothed_data_raw) - len(smoothed_data_grouped)}).\")\n",
    "print()\n",
    "\n",
    "# add airspeed to datasets\n",
    "print(f\"Manipulating datasets:\")\n",
    "print(f\"--> The datasets are being extended:\")\n",
    "print(f\"----> The theoretical reference dataset is being extended with the airspeed, that's calculated based on horizontal and vertical speed.\")\n",
    "print(f\"----> The experimental dataset is being extended with the airspeed, that's calculated based on horizontal and vertical speed.\")\n",
    "print(f\"--> Vertical speeds are converted to be positive:\")\n",
    "print(f\"----> The vertical speeds of the theoretical reference dataset are being converted to be positive.\")\n",
    "print(f\"----> The vertical speeds of the experimental dataset are being converted to be positive.\")\n",
    "\n",
    "airspeed_theoretical_reference: pd.DataFrame = c_analyzer.positive_vertical_speed(speed_data=c_analyzer.calculate_airspeed(speed_data=theoretical_reference_filtered))\n",
    "airspeed_smoothed_data_grouped: pd.DataFrame = c_analyzer.positive_vertical_speed(speed_data=c_analyzer.calculate_airspeed(speed_data=smoothed_data_grouped))\n",
    "\n",
    "print(f\"--> The datasets have been extended and manipulated.\")\n",
    "print()\n",
    "\n",
    "# calculate c values for datasets (simplified and optimized algorithm)\n",
    "print(f\"C values:\")\n",
    "print(f\"--> Calculating the c values for the following conditions:\")\n",
    "print(f\"----> Altitude: {constants.ALTITUDE} m\")\n",
    "print(f\"----> Air density: {constants.AIR_DENSITY} kg/m^3\")\n",
    "print(f\"----> Gravity: {constants.GRAVITY} m/s^2\")\n",
    "print(f\"----> Wing area: {constants.WING_AREA} m^2\")\n",
    "print(f\"----> Takeoff mass: {constants.MASS} kg\")\n",
    "print(f\"--> Calculating the c values for the following datasets:\")\n",
    "print(f\"----> The c values are being calculated for the original reference dataset (simplified & optimized algorithm).\")\n",
    "print(f\"----> The c values are being calculated for the theoretical reference dataset (simplified & optimized algorithm).\")\n",
    "print(f\"----> The c values are being calculated for the experimental dataset (simplified & optimized algorithm).\")\n",
    "\n",
    "c_values_theoretical_reference_optimized: pd.DataFrame = c_analyzer.process_c_values(speed_data=airspeed_theoretical_reference, algorithm=True)\n",
    "c_values_experimental_optimized: pd.DataFrame = c_analyzer.process_c_values(speed_data=airspeed_smoothed_data_grouped, algorithm=True)\n",
    "\n",
    "print(f\"--> The c values have been calculated.\")"
   ]
  },
  {
   "cell_type": "markdown",
   "metadata": {},
   "source": [
    "# Pressure Analysis"
   ]
  },
  {
   "cell_type": "code",
   "execution_count": null,
   "metadata": {},
   "outputs": [],
   "source": [
    "print(f\"Pressure analysis:\")\n",
    "print(f\"--> The pressure data is being processed for the theoretical reference dataset.\")\n",
    "print(f\"--> The pressure data is being processed for the experimental dataset.\")\n",
    "print()\n",
    "\n",
    "pressure_data_theoretical: pd.DataFrame = p_analyzer.process_pressure_data(data=c_values_theoretical_reference_optimized)\n",
    "pressure_data_experimental: pd.DataFrame = p_analyzer.process_pressure_data(data=c_values_experimental_optimized)\n",
    "\n",
    "print(f\"Export to CSV:\")\n",
    "print(f\"The theoretical reference dataset is being exported to a CSV file: {OUTPUT_DIRECTORY}{timestamp}_SJf_dynamic-pressure_theoretical-reference_nicolas-huber.csv\")\n",
    "print(f\"The experimental dataset is being exported to a CSV file: {OUTPUT_DIRECTORY}{timestamp}_SJf_dynamic-pressure_experimental_nicolas-huber.csv\")\n",
    "\n",
    "p_analyzer.export_to_csv(data=pressure_data_theoretical, path=f\"{OUTPUT_DIRECTORY}{timestamp}_SJf_dynamic-pressure_theoretical-reference_nicolas-huber.csv\")\n",
    "p_analyzer.export_to_csv(data=pressure_data_experimental, path=f\"{OUTPUT_DIRECTORY}{timestamp}_SJf_dynamic-pressure_experimental_nicolas-huber.csv\")"
   ]
  },
  {
   "cell_type": "markdown",
   "metadata": {},
   "source": [
    "# Pressure Visualisation"
   ]
  },
  {
   "cell_type": "code",
   "execution_count": null,
   "metadata": {},
   "outputs": [],
   "source": [
    "data_visualizer.visualize_pressure(experimental_data=pressure_data_experimental, theoretical_data=pressure_data_theoretical, title=\"Experimentelle Modellierung des Staudrucks am Flügel\")\n",
    "data_visualizer.visualize_pressure_deviation(experimental_data=pressure_data_experimental, theoretical_data=pressure_data_theoretical, title=\"Abweichung des Staudrucks am Flügel\")"
   ]
  },
  {
   "cell_type": "markdown",
   "metadata": {},
   "source": [
    "# System Info"
   ]
  },
  {
   "cell_type": "code",
   "execution_count": null,
   "metadata": {},
   "outputs": [],
   "source": [
    "print(f\"@ Author {constants.AUTHOR}\")\n",
    "print(f\"@ Author Email {constants.AUTHOR_EMAIL}\")\n",
    "print(f\"@ Author URL {constants.AUTHOR_URL}\")\n",
    "print(f\"@ GitHub URL {constants.GITHUB_URL}\")"
   ]
  }
 ],
 "metadata": {
  "kernelspec": {
   "display_name": "Python 3",
   "language": "python",
   "name": "python3"
  },
  "language_info": {
   "codemirror_mode": {
    "name": "ipython",
    "version": 3
   },
   "file_extension": ".py",
   "mimetype": "text/x-python",
   "name": "python",
   "nbconvert_exporter": "python",
   "pygments_lexer": "ipython3",
   "version": "3.12.0"
  }
 },
 "nbformat": 4,
 "nbformat_minor": 2
}
