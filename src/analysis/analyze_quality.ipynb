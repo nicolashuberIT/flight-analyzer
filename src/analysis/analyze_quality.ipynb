{
 "cells": [
  {
   "cell_type": "markdown",
   "metadata": {},
   "source": [
    "# Documentation\n",
    "\n",
    "This analysis helps to estimate the quality of the stationary glide model by calculating the resultant force at the wing for every datapoint, comparing it to the expected force and returning both a mean force deviation and a deviation percentage.\n",
    "\n",
    "Inputs:\n",
    "- INPUT_DIRECTORY: path to the directory containing .igc files\n",
    "- OUTPUT_DIRECTORY: output data will be exported to this directory\n",
    "- FILE_EXTENSION: set to `.igc`"
   ]
  },
  {
   "cell_type": "markdown",
   "metadata": {},
   "source": [
    "# Imports"
   ]
  },
  {
   "cell_type": "code",
   "execution_count": null,
   "metadata": {},
   "outputs": [],
   "source": [
    "import os\n",
    "import sys\n",
    "import pandas as pd\n",
    "from datetime import datetime\n",
    "from typing import List, Tuple\n",
    "\n",
    "# AI content (GitHub Copilot, 02/07/2024), verified and adapted by Nicolas Huber.\n",
    "src_directory: str = os.path.join(os.getcwd(), \"..\")\n",
    "sys.path.append(src_directory)\n",
    "\n",
    "import constants as constants\n",
    "import helpers.file_processor as file_processor\n",
    "import helpers.data_visualizer as data_visualizer\n",
    "import algorithms.speed_analyzer as speed_analyzer\n",
    "import helpers.quality_analyzer as quality_analyzer\n",
    "import algorithms.c_values_analyzer as c_values_analyzer\n",
    "import algorithms.pressure_analyzer as pressure_analyzer\n"
   ]
  },
  {
   "cell_type": "markdown",
   "metadata": {},
   "source": [
    "# Variables"
   ]
  },
  {
   "cell_type": "code",
   "execution_count": null,
   "metadata": {},
   "outputs": [],
   "source": [
    "INPUT_DIRECTORY: str = \"INPUT_DIRECTORY/\" # end with \"/\n",
    "OUTPUT_DIRECTORY: str = \"OUTPUT_DIRECTORY/\" # end with /\n",
    "FILE_EXTENSION: str = \".igc\""
   ]
  },
  {
   "cell_type": "markdown",
   "metadata": {},
   "source": [
    "# Initialisation"
   ]
  },
  {
   "cell_type": "code",
   "execution_count": null,
   "metadata": {},
   "outputs": [],
   "source": [
    "file_processor = file_processor.FileProcessor()\n",
    "speed_analyzer = speed_analyzer.SpeedAnalyzer()\n",
    "data_visualizer = data_visualizer.DataVisualizer()\n",
    "c_analyzer = c_values_analyzer.CAnalyzer()\n",
    "p_analyzer = pressure_analyzer.PressureAnalyzer()\n",
    "quality_analyzer = quality_analyzer.QualityAnalyzer()\n",
    "\n",
    "theoretical_reference: pd.DataFrame = pd.read_csv(f\"{constants.THEORETICAL_REFERENCE_PATH}\")\n",
    "original_reference: pd.DataFrame = pd.read_csv(f\"{constants.ORIGINAL_REFERENCE_PATH}\")\n",
    "\n",
    "timestamp: str = datetime.now().strftime(\"%Y%m%d-%H%M%S\")"
   ]
  },
  {
   "cell_type": "markdown",
   "metadata": {},
   "source": [
    "# File Listing"
   ]
  },
  {
   "cell_type": "code",
   "execution_count": null,
   "metadata": {},
   "outputs": [],
   "source": [
    "file_paths: List[str] = file_processor.get_file_paths(path=INPUT_DIRECTORY, file_extension=FILE_EXTENSION)\n",
    "\n",
    "print(f\"Importing files for the following conditions:\")\n",
    "print(f\"--> Directory: {INPUT_DIRECTORY}\")\n",
    "print(f\"--> File extension: {FILE_EXTENSION}\")\n",
    "print(f\"--> Theoretical polar: {constants.THEORETICAL_REFERENCE_PATH.split(\"/\")[-1]}\")\n",
    "print(f\"--> Original reference: {constants.ORIGINAL_REFERENCE_PATH.split(\"/\")[-1]}\")\n",
    "print()\n",
    "print(\"Files:\")\n",
    "print(f\"--> Found {len(file_paths)} files.\")\n",
    "print(f\"--> The processing is initiated.\")"
   ]
  },
  {
   "cell_type": "markdown",
   "metadata": {},
   "source": [
    "# File Processing"
   ]
  },
  {
   "cell_type": "code",
   "execution_count": null,
   "metadata": {},
   "outputs": [],
   "source": [
    "data_raw: pd.DataFrame = speed_analyzer.process_raw_data(file_paths=file_paths)"
   ]
  },
  {
   "cell_type": "markdown",
   "metadata": {},
   "source": [
    "# Data Preprocessing"
   ]
  },
  {
   "cell_type": "code",
   "execution_count": null,
   "metadata": {},
   "outputs": [],
   "source": [
    "# original data\n",
    "original_reference_filtered: pd.DataFrame = speed_analyzer.filter_raw_data(data=original_reference, reference=True)\n",
    "airspeed_original_data: pd.DataFrame = c_analyzer.positive_vertical_speed(speed_data=c_analyzer.calculate_airspeed(speed_data=original_reference_filtered))\n",
    "c_values_original_simplified: pd.DataFrame = c_analyzer.process_c_values(speed_data=airspeed_original_data, algorithm=False)\n",
    "\n",
    "# experimental data\n",
    "data_raw_filtered: pd.DataFrame = speed_analyzer.filter_raw_data(data=data_raw)\n",
    "smoothed_data_raw: pd.DataFrame = speed_analyzer.savgol_filter(data=data_raw_filtered)\n",
    "smoothed_data_grouped: pd.DataFrame = speed_analyzer.group_data(data=smoothed_data_raw)\n",
    "airspeed_smoothed_data_grouped: pd.DataFrame = c_analyzer.positive_vertical_speed(speed_data=c_analyzer.calculate_airspeed(speed_data=smoothed_data_grouped))\n",
    "c_values_experimental_optimized: pd.DataFrame = c_analyzer.process_c_values(speed_data=airspeed_smoothed_data_grouped, algorithm=True)"
   ]
  },
  {
   "cell_type": "markdown",
   "metadata": {},
   "source": [
    "# Quality Analysis"
   ]
  },
  {
   "cell_type": "code",
   "execution_count": null,
   "metadata": {},
   "outputs": [],
   "source": [
    "print(f\"Quality analysis:\")\n",
    "print(f\"--> The reference calculations are conducted for all datapoints of the experimental dataset.\")\n",
    "\n",
    "quality_index_experimental: Tuple[float, float] = quality_analyzer.analyze_quality(data=c_values_experimental_optimized, model=True)\n",
    "\n",
    "print(f\"----> The mean deviation of the expected resulting force is {abs(round(quality_index_experimental[0], 2))} N.\")\n",
    "print(f\"----> The mean deviation percentage of the expected resulting force is {abs(round(quality_index_experimental[1], 2))} %.\")\n",
    "\n",
    "print(f\"--> The reference calculations are conducted for all datapoints of the theoretical dataset using the approximation model of the original paper (p. 40, fig. 56)\")\n",
    "\n",
    "quality_index_original: Tuple[float, float] = quality_analyzer.analyze_quality(data=c_values_original_simplified, model=False)\n",
    "\n",
    "print(f\"----> The mean deviation of the expected resulting force is {abs(round(quality_index_original[0], 2))} N.\")\n",
    "print(f\"----> The mean deviation percentage of the expected resulting force is {abs(round(quality_index_original[1], 2))} %.\")"
   ]
  },
  {
   "cell_type": "markdown",
   "metadata": {},
   "source": [
    "# Quality Visualisation"
   ]
  },
  {
   "cell_type": "code",
   "execution_count": null,
   "metadata": {},
   "outputs": [],
   "source": [
    "data_visualizer.visualize_quality_deviation(deviation_data=quality_index_experimental[2], title=\"Qualitätsabweichung basierend auf angenäherten Polaren (optimierte Daten, 31.03.2024)\")\n",
    "data_visualizer.visualize_quality_deviation(deviation_data=quality_index_original[2], title=\"Qualitätsabweichung basierend auf angenäherten Polaren (originale Daten, 24.10.2024)\")"
   ]
  },
  {
   "cell_type": "markdown",
   "metadata": {},
   "source": [
    "# System Info"
   ]
  },
  {
   "cell_type": "code",
   "execution_count": null,
   "metadata": {},
   "outputs": [],
   "source": [
    "print(f\"@ Author {constants.AUTHOR}\")\n",
    "print(f\"@ Author Email {constants.AUTHOR_EMAIL}\")\n",
    "print(f\"@ Author URL {constants.AUTHOR_URL}\")\n",
    "print(f\"@ GitHub URL {constants.GITHUB_URL}\")"
   ]
  }
 ],
 "metadata": {
  "kernelspec": {
   "display_name": "Python 3",
   "language": "python",
   "name": "python3"
  },
  "language_info": {
   "codemirror_mode": {
    "name": "ipython",
    "version": 3
   },
   "file_extension": ".py",
   "mimetype": "text/x-python",
   "name": "python",
   "nbconvert_exporter": "python",
   "pygments_lexer": "ipython3",
   "version": "3.12.0"
  }
 },
 "nbformat": 4,
 "nbformat_minor": 2
}
