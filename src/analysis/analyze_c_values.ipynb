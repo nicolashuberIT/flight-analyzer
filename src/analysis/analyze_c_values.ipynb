{
 "cells": [
  {
   "cell_type": "markdown",
   "metadata": {},
   "source": [
    "# Documentation\n",
    "\n",
    "This analysis tool reads .igc files from an indicated directory, filters the data using the `DataAnalyzer` helper class and then analyzes the speed data by applying the `CAnalyzer` algorithm.\n",
    "\n",
    "Inputs:\n",
    "- INPUT_DIRECTORY: path to the directory containing .igc files\n",
    "- OUTPUT_DIRECTORY: output data will be exported to this directory\n",
    "- FILE_EXTENSION: set to `.igc`"
   ]
  },
  {
   "cell_type": "markdown",
   "metadata": {},
   "source": [
    "# Imports"
   ]
  },
  {
   "cell_type": "code",
   "execution_count": null,
   "metadata": {},
   "outputs": [],
   "source": [
    "import os\n",
    "import sys\n",
    "import pandas as pd\n",
    "from datetime import datetime\n",
    "from typing import List, Tuple\n",
    "\n",
    "# AI content (GitHub Copilot, 02/07/2024), verified and adapted by Nicolas Huber.\n",
    "src_directory: str = os.path.join(os.getcwd(), \"..\")\n",
    "sys.path.append(src_directory)\n",
    "\n",
    "import constants as constants\n",
    "import algorithms.speed_analyzer as speeds\n",
    "import helpers.file_processor as file_processor\n",
    "import helpers.data_visualizer as data_visualizer\n",
    "import algorithms.c_values_analyzer as c_values_analyzer"
   ]
  },
  {
   "cell_type": "markdown",
   "metadata": {},
   "source": [
    "# Variables"
   ]
  },
  {
   "cell_type": "code",
   "execution_count": null,
   "metadata": {},
   "outputs": [],
   "source": [
    "INPUT_DIRECTORY: str = \"INPUT_DIRECTORY/\" # end with \"/\n",
    "OUTPUT_DIRECTORY: str = \"OUTPUT_DIRECTORY/\" # end with /\n",
    "FILE_EXTENSION: str = \".igc\""
   ]
  },
  {
   "cell_type": "markdown",
   "metadata": {},
   "source": [
    "# Initialisation"
   ]
  },
  {
   "cell_type": "code",
   "execution_count": null,
   "metadata": {},
   "outputs": [],
   "source": [
    "file_processor = file_processor.FileProcessor()\n",
    "speed_analyzer = speeds.SpeedAnalyzer()\n",
    "data_visualizer = data_visualizer.DataVisualizer()\n",
    "c_analyzer = c_values_analyzer.CAnalyzer()\n",
    "\n",
    "theoretical_reference: pd.DataFrame = pd.read_csv(f\"{constants.THEORETICAL_REFERENCE_PATH}\")\n",
    "original_reference: pd.DataFrame = pd.read_csv(f\"{constants.ORIGINAL_REFERENCE_PATH}\")\n",
    "\n",
    "timestamp: str = datetime.now().strftime(\"%Y%m%d-%H%M%S\")"
   ]
  },
  {
   "cell_type": "markdown",
   "metadata": {},
   "source": [
    "# File Listing"
   ]
  },
  {
   "cell_type": "code",
   "execution_count": null,
   "metadata": {},
   "outputs": [],
   "source": [
    "file_paths: List[str] = file_processor.get_file_paths(path=INPUT_DIRECTORY, file_extension=FILE_EXTENSION)\n",
    "\n",
    "print(f\"Importing files for the following conditions:\")\n",
    "print(f\"--> Directory: {INPUT_DIRECTORY}\")\n",
    "print(f\"--> File extension: {FILE_EXTENSION}\")\n",
    "print(f\"--> Theoretical polar: {constants.THEORETICAL_REFERENCE_PATH.split(\"/\")[-1]}\")\n",
    "print(f\"--> Original reference: {constants.ORIGINAL_REFERENCE_PATH.split(\"/\")[-1]}\")\n",
    "print()\n",
    "print(\"Files:\")\n",
    "print(f\"--> Found {len(file_paths)} files.\")\n",
    "print(f\"--> The processing is initiated.\")"
   ]
  },
  {
   "cell_type": "markdown",
   "metadata": {},
   "source": [
    "# File Processing"
   ]
  },
  {
   "cell_type": "code",
   "execution_count": null,
   "metadata": {},
   "outputs": [],
   "source": [
    "data_raw: pd.DataFrame = speed_analyzer.process_raw_data(file_paths=file_paths)"
   ]
  },
  {
   "cell_type": "markdown",
   "metadata": {},
   "source": [
    "# Data Processing"
   ]
  },
  {
   "cell_type": "code",
   "execution_count": null,
   "metadata": {},
   "outputs": [],
   "source": [
    "# igc data\n",
    "theoretical_reference_filtered: pd.DataFrame = speed_analyzer.filter_raw_data(data=theoretical_reference, reference=True)\n",
    "original_reference_filtered: pd.DataFrame = speed_analyzer.filter_raw_data(data=original_reference, reference=True)\n",
    "data_raw_filtered: pd.DataFrame = speed_analyzer.filter_raw_data(data=data_raw)\n",
    "\n",
    "print(f\"Filtered data:\")\n",
    "print(f\"--> Data points for filtered theoretical reference: {len(theoretical_reference_filtered)} (lost {len(theoretical_reference) - len(theoretical_reference_filtered)})\")\n",
    "print(f\"--> Data points for filtered original reference: {len(original_reference_filtered)} (lost {len(original_reference) - len(original_reference_filtered)})\")\n",
    "print(f\"--> Data points for filtered tracklogs: {len(data_raw_filtered)} (lost {len(data_raw) - len(data_raw_filtered)})\")\n",
    "print()\n",
    "\n",
    "# smooth and filter igc data\n",
    "smoothed_data_raw: pd.DataFrame = speed_analyzer.savgol_filter(data=data_raw_filtered)\n",
    "smoothed_data_grouped: pd.DataFrame = speed_analyzer.group_data(data=smoothed_data_raw)\n",
    "\n",
    "print(f\"Data smoothing:\")\n",
    "print(f\"--> During smoothing, the raw data points were reduced from {len(data_raw_filtered)} to {len(smoothed_data_raw)} (lost {len(data_raw_filtered) - len(smoothed_data_raw)}).\")\n",
    "print(f\"--> During grouping, the smoothed data points were reduced from {len(smoothed_data_raw)} to {len(smoothed_data_grouped)} (lost {len(smoothed_data_raw) - len(smoothed_data_grouped)}).\")\n",
    "print()\n",
    "\n",
    "# add airspeed to datasets\n",
    "print(f\"Manipulating datasets:\")\n",
    "print(f\"--> The datasets are being extended:\")\n",
    "print(f\"----> The original reference dataset is being extended with the airspeed, that's calculated based on horizontal and vertical speed.\")\n",
    "print(f\"----> The theoretical reference dataset is being extended with the airspeed, that's calculated based on horizontal and vertical speed.\")\n",
    "print(f\"----> The experimental dataset is being extended with the airspeed, that's calculated based on horizontal and vertical speed.\")\n",
    "print(f\"--> Vertical speeds are converted to be positive:\")\n",
    "print(f\"----> The vertical speeds of the original reference dataset are being converted to be positive.\")\n",
    "print(f\"----> The vertical speeds of the theoretical reference dataset are being converted to be positive.\")\n",
    "print(f\"----> The vertical speeds of the experimental dataset are being converted to be positive.\")\n",
    "\n",
    "airspeed_original_reference: pd.DataFrame = c_analyzer.positive_vertical_speed(speed_data=c_analyzer.calculate_airspeed(speed_data=original_reference_filtered))\n",
    "airspeed_theoretical_reference: pd.DataFrame = c_analyzer.positive_vertical_speed(speed_data=c_analyzer.calculate_airspeed(speed_data=theoretical_reference_filtered))\n",
    "airspeed_smoothed_data_grouped: pd.DataFrame = c_analyzer.positive_vertical_speed(speed_data=c_analyzer.calculate_airspeed(speed_data=smoothed_data_grouped))\n",
    "\n",
    "print(f\"--> The datasets have been extended and manipulated.\")\n",
    "print()\n",
    "\n",
    "# calculate c values for datasets (simplified and optimized algorithm)\n",
    "print(f\"C values:\")\n",
    "print(f\"--> Calculating the c values for the following conditions:\")\n",
    "print(f\"----> Altitude: {constants.ALTITUDE} m\")\n",
    "print(f\"----> Air density: {constants.AIR_DENSITY} kg/m^3\")\n",
    "print(f\"----> Gravity: {constants.GRAVITY} m/s^2\")\n",
    "print(f\"----> Wing area: {constants.WING_AREA} m^2\")\n",
    "print(f\"----> Takeoff mass: {constants.MASS} kg\")\n",
    "print(f\"--> Calculating the c values for the following datasets:\")\n",
    "print(f\"----> The c values are being calculated for the original reference dataset (simplified & optimized algorithm).\")\n",
    "print(f\"----> The c values are being calculated for the theoretical reference dataset (simplified & optimized algorithm).\")\n",
    "print(f\"----> The c values are being calculated for the experimental dataset (simplified & optimized algorithm).\")\n",
    "\n",
    "c_values_original_reference_simplified: pd.DataFrame = c_analyzer.process_c_values(speed_data=airspeed_original_reference)\n",
    "c_values_original_reference_optimized: pd.DataFrame = c_analyzer.process_c_values(speed_data=airspeed_original_reference, algorithm=True)\n",
    "c_values_theoretical_reference_simplified: pd.DataFrame = c_analyzer.process_c_values(speed_data=airspeed_theoretical_reference)\n",
    "c_values_theoretical_reference_optimized: pd.DataFrame = c_analyzer.process_c_values(speed_data=airspeed_theoretical_reference, algorithm=True)\n",
    "c_values_experimental_simplified: pd.DataFrame = c_analyzer.process_c_values(speed_data=airspeed_smoothed_data_grouped)\n",
    "c_values_experimental_optimized: pd.DataFrame = c_analyzer.process_c_values(speed_data=airspeed_smoothed_data_grouped, algorithm=True)\n",
    "\n",
    "print(f\"--> The c values have been calculated.\")\n",
    "print()\n",
    "\n",
    "print(f\"Export data to CSV:\")\n",
    "print(f\"--> The original reference dataset is being exported to the output directory (simplified algorithm): {timestamp}_SJf_c-values-original-reference_simplified_nicolas-huber.csv\")\n",
    "print(f\"--> The original reference dataset is being exported to the output directory (optimized algorithm): {timestamp}_SJf_c-values-original-reference_optimized_nicolas-huber.csv\")\n",
    "print(f\"--> The theoretical reference dataset is being exported to the output directory (simplified algorithm): {timestamp}_SJf_c-values-theoretical-reference_simplified_nicolas-huber.csv\")\n",
    "print(f\"--> The theoretical reference dataset is being exported to the output directory (optimized algorithm): {timestamp}_SJf_c-values-theoretical-reference_optimized_nicolas-huber.csv\")\n",
    "print(f\"--> The experimental dataset is being exported to the output directory (simplified algorithm): {timestamp}_SJf_c-values-experimental_simplified_nicolas-huber.csv\")\n",
    "print(f\"--> The experimental dataset is being exported to the output directory (optimized algorithm): {timestamp}_SJf_c-values-experimental_optimized_nicolas-huber.csv\")\n",
    "\n",
    "speed_analyzer.export_to_csv(data=c_values_original_reference_simplified, file_path=f\"{OUTPUT_DIRECTORY}/{timestamp}_SJf_c-values-original-reference_simplified_nicolas-huber.csv\")\n",
    "speed_analyzer.export_to_csv(data=c_values_original_reference_optimized, file_path=f\"{OUTPUT_DIRECTORY}/{timestamp}_SJf_c-values-original-reference_optimized_nicolas-huber.csv\")\n",
    "speed_analyzer.export_to_csv(data=c_values_theoretical_reference_simplified, file_path=f\"{OUTPUT_DIRECTORY}/{timestamp}_SJf_c-values-theoretical-reference_simplified_nicolas-huber.csv\")\n",
    "speed_analyzer.export_to_csv(data=c_values_theoretical_reference_optimized, file_path=f\"{OUTPUT_DIRECTORY}/{timestamp}_SJf_c-values-theoretical-reference_optimized_nicolas-huber.csv\")\n",
    "speed_analyzer.export_to_csv(data=c_values_experimental_simplified, file_path=f\"{OUTPUT_DIRECTORY}/{timestamp}_SJf_c-values-experimental_simplified_nicolas-huber.csv\")\n",
    "speed_analyzer.export_to_csv(data=c_values_experimental_optimized, file_path=f\"{OUTPUT_DIRECTORY}/{timestamp}_SJf_c-values-experimental_optimized_nicolas-huber.csv\")"
   ]
  },
  {
   "cell_type": "markdown",
   "metadata": {},
   "source": [
    "# Visualize Theoretical Reference"
   ]
  },
  {
   "cell_type": "code",
   "execution_count": null,
   "metadata": {},
   "outputs": [],
   "source": [
    "data_visualizer.visualize_c_values_theoretical(theoretical_data=c_values_theoretical_reference_simplified, key='Ca [0.5]', title=\"Theoretische Ca-Werte (vereinfachter Algorithmus)\")\n",
    "data_visualizer.visualize_c_values_theoretical(theoretical_data=c_values_theoretical_reference_simplified, key='Cw [0.5]', title=\"Theoretische Cw-Werte (vereinfachter Algorithmus)\")\n",
    "data_visualizer.visualize_c_values_theoretical(theoretical_data=c_values_theoretical_reference_optimized, key='Ca [0.5]', title=\"Theoretische Ca-Werte (optimierter Algorithmus)\")\n",
    "data_visualizer.visualize_c_values_theoretical(theoretical_data=c_values_theoretical_reference_optimized, key='Cw [0.5]', title=\"Theoretische Cw-Werte (optimierter Algorithmus)\")\n"
   ]
  },
  {
   "cell_type": "markdown",
   "metadata": {},
   "source": [
    "# Visualize Results of Simplified Algorithm"
   ]
  },
  {
   "cell_type": "code",
   "execution_count": null,
   "metadata": {},
   "outputs": [],
   "source": [
    "data_visualizer.visualize_c_values(experimental_data=c_values_original_reference_simplified, theoretical_data=c_values_theoretical_reference_simplified, key='Ca [0.5]', title='Experimentelle vs. theoretische Ca-Werte (vereinfachter Algorithmus, originale Daten)')\n",
    "data_visualizer.visualize_c_values(experimental_data=c_values_original_reference_simplified, theoretical_data=c_values_theoretical_reference_simplified, key='Cw [0.5]', title='Experimentelle vs. theoretische Cw-Werte (vereinfachter Algorithmus, originale Daten)')\n",
    "deviation_ca_original_simplified: Tuple[float, float, float, float] = data_visualizer.visualize_c_values_deviation(experimental_data=c_values_original_reference_simplified, theoretical_data=c_values_theoretical_reference_simplified, key='Ca [0.5]', title='Abweichung der Ca-Werte (vereinfachter Algorithmus, originale Daten)')\n",
    "deviation_cw_original_simplified: Tuple[float, float, float, float] = data_visualizer.visualize_c_values_deviation(experimental_data=c_values_original_reference_simplified, theoretical_data=c_values_theoretical_reference_simplified, key='Cw [0.5]', title='Abweichung der Cw-Werte (vereinfachter Algorithmus, originale Daten)')\n",
    "\n",
    "data_visualizer.visualize_c_values(experimental_data=c_values_experimental_simplified, theoretical_data=c_values_theoretical_reference_simplified, key='Ca [0.5]', title='Experimentelle vs. theoretische Ca-Werte (vereinfachter Algorithmus, optimierte Daten)')\n",
    "data_visualizer.visualize_c_values(experimental_data=c_values_experimental_simplified, theoretical_data=c_values_theoretical_reference_simplified, key='Cw [0.5]', title='Experimentelle vs. theoretische Cw-Werte (vereinfachter Algorithmus, optimierte Daten)')\n",
    "deviation_ca_experimental_simplified: Tuple[float, float, float, float] = data_visualizer.visualize_c_values_deviation(experimental_data=c_values_experimental_simplified, theoretical_data=c_values_theoretical_reference_simplified, key='Ca [0.5]', title='Abweichung der Ca-Werte (vereinfachter Algorithmus, optimierte Daten)')\n",
    "deviation_cw_experimental_simplified: Tuple[float, float, float, float] = data_visualizer.visualize_c_values_deviation(experimental_data=c_values_experimental_simplified, theoretical_data=c_values_theoretical_reference_simplified, key='Cw [0.5]', title='Abweichung der Cw-Werte (vereinfachter Algorithmus, optimierte Daten)')"
   ]
  },
  {
   "cell_type": "markdown",
   "metadata": {},
   "source": [
    "# Visualize Results of Optimized Algorithm"
   ]
  },
  {
   "cell_type": "code",
   "execution_count": null,
   "metadata": {},
   "outputs": [],
   "source": [
    "data_visualizer.visualize_c_values(experimental_data=c_values_original_reference_optimized, theoretical_data=c_values_theoretical_reference_optimized, key='Ca [0.5]', title='Experimentelle vs. theoretische Ca-Werte (optimierter Algorithmus, originale Daten)')\n",
    "data_visualizer.visualize_c_values(experimental_data=c_values_original_reference_optimized, theoretical_data=c_values_theoretical_reference_optimized, key='Cw [0.5]', title='Experimentelle vs. theoretische Cw-Werte (optimierter Algorithmus, originale Daten)')\n",
    "deviation_ca_original_optimized: Tuple[float, float, float, float] = data_visualizer.visualize_c_values_deviation(experimental_data=c_values_original_reference_optimized, theoretical_data=c_values_theoretical_reference_optimized, key='Ca [0.5]', title='Abweichung der Ca-Werte (optimierter Algorithmus, originale Daten)')\n",
    "deviation_cw_original_optimized: Tuple[float, float, float, float] = data_visualizer.visualize_c_values_deviation(experimental_data=c_values_original_reference_optimized, theoretical_data=c_values_theoretical_reference_optimized, key='Cw [0.5]', title='Abweichung der Cw-Werte (optimierter Algorithmus, originale Daten)')\n",
    "\n",
    "data_visualizer.visualize_c_values(experimental_data=c_values_experimental_optimized, theoretical_data=c_values_theoretical_reference_optimized, key='Ca [0.5]', title='Experimentelle vs. theoretische Ca-Werte (optimierter Algorithmus, optimierte Daten)')\n",
    "data_visualizer.visualize_c_values(experimental_data=c_values_experimental_optimized, theoretical_data=c_values_theoretical_reference_optimized, key='Cw [0.5]', title='Experimentelle vs. theoretische Cw-Werte (optimierter Algorithmus, optimierte Daten)')\n",
    "deviation_ca_experimental_optimized: Tuple[float, float, float, float] = data_visualizer.visualize_c_values_deviation(experimental_data=c_values_experimental_optimized, theoretical_data=c_values_theoretical_reference_optimized, key='Ca [0.5]', title='Abweichung der Ca-Werte (optimierter Algorithmus, optimierte Daten)')\n",
    "deviation_cw_experimental_optimized: Tuple[float, float, float, float] = data_visualizer.visualize_c_values_deviation(experimental_data=c_values_experimental_optimized, theoretical_data=c_values_theoretical_reference_optimized, key='Cw [0.5]', title='Abweichung der Cw-Werte (optimierter Algorithmus, optimierte Daten)')"
   ]
  },
  {
   "cell_type": "markdown",
   "metadata": {},
   "source": [
    "# Report"
   ]
  },
  {
   "cell_type": "code",
   "execution_count": null,
   "metadata": {},
   "outputs": [],
   "source": [
    "score_original_ca_simplified: float = c_analyzer.score_stats(stats=deviation_ca_original_simplified)\n",
    "score_original_cw_simplified: float = c_analyzer.score_stats(stats=deviation_cw_original_simplified)\n",
    "score_experimental_ca_simplified: float = c_analyzer.score_stats(stats=deviation_ca_experimental_simplified)\n",
    "score_experimental_cw_simplified: float = c_analyzer.score_stats(stats=deviation_cw_experimental_simplified)\n",
    "score_original_ca_optimized: float = c_analyzer.score_stats(stats=deviation_ca_original_optimized)\n",
    "score_original_cw_optimized: float = c_analyzer.score_stats(stats=deviation_cw_original_optimized)\n",
    "score_experimental_ca_optimized: float = c_analyzer.score_stats(stats=deviation_ca_experimental_optimized)\n",
    "score_experimental_cw_optimized: float = c_analyzer.score_stats(stats=deviation_cw_experimental_optimized)\n",
    "\n",
    "c_analyzer.print_report(score_original_ca_simplified=score_original_ca_simplified, score_original_cw_simplified=score_original_cw_simplified, score_experimental_ca_simplified=score_experimental_ca_simplified, score_experimental_cw_simplified=score_experimental_cw_simplified, score_original_ca_optimized=score_original_ca_optimized, score_original_cw_optimized=score_original_cw_optimized, score_experimental_ca_optimized=score_experimental_ca_optimized, score_experimental_cw_optimized=score_experimental_cw_optimized)"
   ]
  },
  {
   "cell_type": "markdown",
   "metadata": {},
   "source": [
    "# System Info"
   ]
  },
  {
   "cell_type": "code",
   "execution_count": null,
   "metadata": {},
   "outputs": [],
   "source": [
    "print(f\"@ Author {constants.AUTHOR}\")\n",
    "print(f\"@ Author Email {constants.AUTHOR_EMAIL}\")\n",
    "print(f\"@ Author URL {constants.AUTHOR_URL}\")\n",
    "print(f\"@ GitHub URL {constants.GITHUB_URL}\")"
   ]
  }
 ],
 "metadata": {
  "kernelspec": {
   "display_name": "Python 3",
   "language": "python",
   "name": "python3"
  },
  "language_info": {
   "codemirror_mode": {
    "name": "ipython",
    "version": 3
   },
   "file_extension": ".py",
   "mimetype": "text/x-python",
   "name": "python",
   "nbconvert_exporter": "python",
   "pygments_lexer": "ipython3",
   "version": "3.12.0"
  }
 },
 "nbformat": 4,
 "nbformat_minor": 2
}
