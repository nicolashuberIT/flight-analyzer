{
 "cells": [
  {
   "cell_type": "markdown",
   "metadata": {},
   "source": [
    "# Imports"
   ]
  },
  {
   "cell_type": "code",
   "execution_count": null,
   "metadata": {},
   "outputs": [],
   "source": [
    "import os\n",
    "import sys\n",
    "\n",
    "# Get the current working directory\n",
    "src_directory = os.path.join(os.getcwd(), \"..\")\n",
    "sys.path.append(src_directory)\n",
    "\n",
    "import algorithms.angle_analyzer as angle_analyzer\n",
    "import constants as constants"
   ]
  },
  {
   "cell_type": "markdown",
   "metadata": {},
   "source": [
    "# Variables"
   ]
  },
  {
   "cell_type": "code",
   "execution_count": null,
   "metadata": {},
   "outputs": [],
   "source": [
    "# 200 expects linear, 230 expects end of straight line, 270 expects curve, 400 expects overlap, 1400 expects straight line, 1320 expects end of curve\n",
    "index = 1320"
   ]
  },
  {
   "cell_type": "markdown",
   "metadata": {},
   "source": [
    "# Initialisation"
   ]
  },
  {
   "cell_type": "code",
   "execution_count": null,
   "metadata": {},
   "outputs": [],
   "source": [
    "Analyzer = angle_analyzer.AngleAnalyzer(\n",
    "    \"/Users/nicolas/Downloads/test.csv\",\n",
    "    constants.ANGLE_PAST_THRESHOLD,\n",
    "    constants.ANGLE_FUTURE_THRESHOLD,\n",
    "    constants.ANGLE_THRESHOLD,\n",
    ")\n",
    "\n",
    "print(f\"The program is ready for execution and will run using the following parameters:\")\n",
    "print(f\"--> Angle Threshold: {constants.ANGLE_THRESHOLD}°\")"
   ]
  },
  {
   "cell_type": "markdown",
   "metadata": {},
   "source": [
    "# Data Import"
   ]
  },
  {
   "cell_type": "code",
   "execution_count": null,
   "metadata": {},
   "outputs": [],
   "source": [
    "data = Analyzer.read_csv_file()\n",
    "print(\"lenght: \" + str(len(data)))"
   ]
  },
  {
   "cell_type": "code",
   "execution_count": null,
   "metadata": {},
   "outputs": [],
   "source": [
    "data"
   ]
  },
  {
   "cell_type": "markdown",
   "metadata": {},
   "source": [
    "# Analyze Coordintes"
   ]
  },
  {
   "cell_type": "code",
   "execution_count": null,
   "metadata": {},
   "outputs": [],
   "source": [
    "print(\"Past Coordinates\")\n",
    "latest_coordinates = Analyzer.extract_latest_coordinates(data, index)\n",
    "print(\"--> lenght: \" + str(len(latest_coordinates)))\n"
   ]
  },
  {
   "cell_type": "code",
   "execution_count": null,
   "metadata": {},
   "outputs": [],
   "source": [
    "latest_coordinates"
   ]
  },
  {
   "cell_type": "code",
   "execution_count": null,
   "metadata": {},
   "outputs": [],
   "source": [
    "print(\"Future Coordinates\")\n",
    "future_coordinates = Analyzer.extract_future_coordinates(data, index)\n",
    "print(\"--> lenght: \" + str(len(future_coordinates)))"
   ]
  },
  {
   "cell_type": "code",
   "execution_count": null,
   "metadata": {},
   "outputs": [],
   "source": [
    "future_coordinates"
   ]
  },
  {
   "cell_type": "markdown",
   "metadata": {},
   "source": [
    "# Calculate Angles"
   ]
  },
  {
   "cell_type": "code",
   "execution_count": null,
   "metadata": {},
   "outputs": [],
   "source": [
    "angles_past = Analyzer.cut_zero_angles(Analyzer.calculate_angles(latest_coordinates))\n",
    "angles_future = Analyzer.cut_zero_angles(Analyzer.calculate_angles(future_coordinates))"
   ]
  },
  {
   "cell_type": "code",
   "execution_count": null,
   "metadata": {},
   "outputs": [],
   "source": [
    "print(\"Past Angles\")\n",
    "print(\"--> lenght: \" + str(len(angles_past)))"
   ]
  },
  {
   "cell_type": "code",
   "execution_count": null,
   "metadata": {},
   "outputs": [],
   "source": [
    "angles_past"
   ]
  },
  {
   "cell_type": "code",
   "execution_count": null,
   "metadata": {},
   "outputs": [],
   "source": [
    "print(\"Future Angles\")\n",
    "print(\"--> lenght: \" + str(len(angles_future)))"
   ]
  },
  {
   "cell_type": "code",
   "execution_count": null,
   "metadata": {},
   "outputs": [],
   "source": [
    "angles_future"
   ]
  },
  {
   "cell_type": "markdown",
   "metadata": {},
   "source": [
    "# Visualisation"
   ]
  },
  {
   "cell_type": "code",
   "execution_count": null,
   "metadata": {},
   "outputs": [],
   "source": [
    "Analyzer.visualize_points_colored(data, index)\n",
    "Analyzer.visualize_points_2d(latest_coordinates, 0, True, \"Vergangenheit\")\n",
    "Analyzer.visualize_points_2d(future_coordinates, 0, True, \"Zukunft\")\n",
    "Analyzer.visualize_angles(angles_past, angles_future)"
   ]
  },
  {
   "cell_type": "markdown",
   "metadata": {},
   "source": [
    "# Analysis"
   ]
  },
  {
   "cell_type": "code",
   "execution_count": null,
   "metadata": {},
   "outputs": [],
   "source": [
    "status_angle_past = Analyzer.analyze_angles(angles_past)\n",
    "status_angle_future = Analyzer.analyze_angles(angles_future)\n",
    "(\n",
    "    status_regression_past,\n",
    "    slope_past,\n",
    "    intercept_past,\n",
    "    r_value_past,\n",
    "    p_value_past,\n",
    "    std_err_past,\n",
    ") = Analyzer.analyze_linear_regression(latest_coordinates)\n",
    "(\n",
    "    status_regression_future,\n",
    "    slope_future,\n",
    "    intercept_future,\n",
    "    r_value_future,\n",
    "    p_value_future,\n",
    "    std_err_future,\n",
    ") = Analyzer.analyze_linear_regression(future_coordinates)\n",
    "\n",
    "print(\"Angle Analysis\")\n",
    "print(\"--> Past: \" + str(status_angle_past))\n",
    "print(\"--> Future: \" + str(status_angle_future))\n",
    "\n",
    "print()\n",
    "\n",
    "print(\"Past Linear Regression\")\n",
    "print(\"--> Status: \" + str(status_regression_past))\n",
    "print(\"--> Slope: \" + str(slope_past))\n",
    "print(\"--> Intercept: \" + str(intercept_past))\n",
    "print(\"--> R-Value: \" + str(r_value_past))\n",
    "print(\"--> P-Value: \" + str(p_value_past))\n",
    "print(\"--> Standard Error: \" + str(std_err_past))\n",
    "\n",
    "print()\n",
    "\n",
    "print(\"Future Linear Regression\")\n",
    "print(\"--> Status: \" + str(status_regression_future))\n",
    "print(\"--> Slope: \" + str(slope_future))\n",
    "print(\"--> Intercept: \" + str(intercept_future))\n",
    "print(\"--> R-Value: \" + str(r_value_future))\n",
    "print(\"--> P-Value: \" + str(p_value_future))\n",
    "print(\"--> Standard Error: \" + str(std_err_future))\n",
    "\n",
    "print()\n",
    "\n",
    "print(\"Data Analysis\")\n",
    "print(f\"--> Status: {Analyzer.analyze_data(status_angle_past, status_regression_past, status_angle_future, status_regression_future)}\")"
   ]
  },
  {
   "cell_type": "markdown",
   "metadata": {},
   "source": [
    "# System Info"
   ]
  },
  {
   "cell_type": "code",
   "execution_count": null,
   "metadata": {},
   "outputs": [],
   "source": [
    "print(f\"@ Version {constants.VERSION}\")\n",
    "print(f\"@ Author {constants.AUTHOR}\")\n",
    "print(f\"@ Author Email {constants.AUTHOR_EMAIL}\")\n",
    "print(f\"@ Author URL {constants.AUTHOR_URL}\")\n",
    "print(f\"@ GitHub URL {constants.GITHUB_URL}\")"
   ]
  }
 ],
 "metadata": {
  "kernelspec": {
   "display_name": "Python 3",
   "language": "python",
   "name": "python3"
  },
  "language_info": {
   "codemirror_mode": {
    "name": "ipython",
    "version": 3
   },
   "file_extension": ".py",
   "mimetype": "text/x-python",
   "name": "python",
   "nbconvert_exporter": "python",
   "pygments_lexer": "ipython3",
   "version": "3.12.0"
  }
 },
 "nbformat": 4,
 "nbformat_minor": 2
}
