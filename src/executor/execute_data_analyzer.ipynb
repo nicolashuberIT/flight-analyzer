{
 "cells": [
  {
   "cell_type": "markdown",
   "metadata": {},
   "source": [
    "# Imports"
   ]
  },
  {
   "cell_type": "code",
   "execution_count": 1,
   "metadata": {},
   "outputs": [],
   "source": [
    "import os\n",
    "import sys\n",
    "import pandas as pd\n",
    "\n",
    "# AI content (GitHub Copilot, 02/07/2024), verified and adapted by Nicolas Huber.\n",
    "src_directory: str = os.path.join(os.getcwd(), \"..\")\n",
    "sys.path.append(src_directory)\n",
    "\n",
    "from helpers import data_analyzer as data_analyzer\n",
    "from algorithms import angle_analyzer as angle_analyzer\n",
    "from helpers import data_visualizer as data_visualizer\n",
    "import constants as constants"
   ]
  },
  {
   "cell_type": "markdown",
   "metadata": {},
   "source": [
    "# Variables"
   ]
  },
  {
   "cell_type": "code",
   "execution_count": 2,
   "metadata": {},
   "outputs": [],
   "source": [
    "CSV_FILE = \"/Users/nicolas/Downloads/test_angle_analyzer.csv\""
   ]
  },
  {
   "cell_type": "markdown",
   "metadata": {},
   "source": [
    "# Initialisation"
   ]
  },
  {
   "cell_type": "code",
   "execution_count": 3,
   "metadata": {},
   "outputs": [],
   "source": [
    "DataAnalyzer: data_analyzer.DataAnalyzer = data_analyzer.DataAnalyzer(CSV_FILE)\n",
    "Visualizer: data_visualizer.DataVisualizer = data_visualizer.DataVisualizer()"
   ]
  },
  {
   "cell_type": "markdown",
   "metadata": {},
   "source": [
    "# Data Import"
   ]
  },
  {
   "cell_type": "code",
   "execution_count": 4,
   "metadata": {},
   "outputs": [],
   "source": [
    "data: pd.DataFrame = DataAnalyzer.read_csv_data()"
   ]
  },
  {
   "cell_type": "markdown",
   "metadata": {},
   "source": [
    "# Data Processing"
   ]
  },
  {
   "cell_type": "code",
   "execution_count": 5,
   "metadata": {},
   "outputs": [],
   "source": [
    "AngleAnalyzer: angle_analyzer.AngleAnalyzer = DataAnalyzer.construct_angle_analyzer()\n",
    "data_processed: pd.DataFrame = DataAnalyzer.process_data(data, AngleAnalyzer)"
   ]
  },
  {
   "cell_type": "markdown",
   "metadata": {},
   "source": [
    "# Visualisation\n",
    "\n",
    "This section visualises the data processed using the `process_data` method in the `DataAnalyzer` class. Points are colored based on their position category. The system differs between the following categories:\n",
    "\n",
    "1. `INDEX_STRAIGHT_LINE: Tuple[bool, str, int] = True, \"Straight Line\", 0`\n",
    "2. `INDEX__ENDPOINT_STRAIGHT_LINE: Tuple[bool, str, int] = False, \"Endpoint Straight Line\", 1`\n",
    "3. `INDEX_ENDPOINT_CURVE: Tuple[bool, str, int] = False, \"Endpoint Curve\", 2`\n",
    "4. `INDEX_CURVE: Tuple[bool, str, int] = False, \"Curve / Overlap / Error\", 3`"
   ]
  },
  {
   "cell_type": "code",
   "execution_count": 11,
   "metadata": {},
   "outputs": [
    {
     "ename": "AttributeError",
     "evalue": "'DataVisualizer' object has no attribute 'visualize_points_position'",
     "output_type": "error",
     "traceback": [
      "\u001b[0;31m---------------------------------------------------------------------------\u001b[0m",
      "\u001b[0;31mAttributeError\u001b[0m                            Traceback (most recent call last)",
      "Cell \u001b[0;32mIn[11], line 1\u001b[0m\n\u001b[0;32m----> 1\u001b[0m \u001b[43mVisualizer\u001b[49m\u001b[38;5;241;43m.\u001b[39;49m\u001b[43mvisualize_points_position\u001b[49m(data_processed)\n",
      "\u001b[0;31mAttributeError\u001b[0m: 'DataVisualizer' object has no attribute 'visualize_points_position'"
     ]
    }
   ],
   "source": [
    "Visualizer.visualize_points_position(data_processed)"
   ]
  },
  {
   "cell_type": "markdown",
   "metadata": {},
   "source": [
    "# Export Data"
   ]
  },
  {
   "cell_type": "code",
   "execution_count": 6,
   "metadata": {},
   "outputs": [
    {
     "name": "stdout",
     "output_type": "stream",
     "text": [
      "Data exported to /Users/nicolas/Downloads/test_angle_analyzer_analyzed.csv\n"
     ]
    }
   ],
   "source": [
    "DataAnalyzer.export_to_csv(data_processed)"
   ]
  },
  {
   "cell_type": "markdown",
   "metadata": {},
   "source": [
    "# Report"
   ]
  },
  {
   "cell_type": "code",
   "execution_count": 8,
   "metadata": {},
   "outputs": [
    {
     "name": "stdout",
     "output_type": "stream",
     "text": [
      "You lost 60 rows of data due to processing. The data loss is supposed to be 60 rows, which can be calculated by adding the ANGLE_FUTURE_THRESHOLD and the ANGLE_PAST_TRESHOLD.\n"
     ]
    }
   ],
   "source": [
    "print(f\"You lost {len(data)-len(data_processed)} rows of data due to processing. The data loss is supposed to be {constants.ANGLE_FUTURE_THRESHOLD + constants.ANGLE_PAST_THRESHOLD} rows, which can be calculated by adding the ANGLE_FUTURE_THRESHOLD and the ANGLE_PAST_TRESHOLD.\")"
   ]
  }
 ],
 "metadata": {
  "kernelspec": {
   "display_name": "Python 3",
   "language": "python",
   "name": "python3"
  },
  "language_info": {
   "codemirror_mode": {
    "name": "ipython",
    "version": 3
   },
   "file_extension": ".py",
   "mimetype": "text/x-python",
   "name": "python",
   "nbconvert_exporter": "python",
   "pygments_lexer": "ipython3",
   "version": "3.12.0"
  }
 },
 "nbformat": 4,
 "nbformat_minor": 2
}
