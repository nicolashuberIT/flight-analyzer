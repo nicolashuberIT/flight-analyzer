{
 "cells": [
  {
   "cell_type": "markdown",
   "metadata": {},
   "source": [
    "# Imports"
   ]
  },
  {
   "cell_type": "code",
   "execution_count": null,
   "metadata": {},
   "outputs": [],
   "source": [
    "import os\n",
    "import sys\n",
    "import pandas as pd\n",
    "\n",
    "# AI content (GitHub Copilot, 02/07/2024), verified and adapted by Nicolas Huber.\n",
    "src_directory: str = os.path.join(os.getcwd(), \"..\")\n",
    "sys.path.append(src_directory)\n",
    "\n",
    "from helpers import data_analyzer as data_analyzer\n",
    "from algorithms import angle_analyzer as angle_analyzer\n",
    "from helpers import data_visualizer as data_visualizer\n",
    "import constants as constants"
   ]
  },
  {
   "cell_type": "markdown",
   "metadata": {},
   "source": [
    "# Variables"
   ]
  },
  {
   "cell_type": "code",
   "execution_count": null,
   "metadata": {},
   "outputs": [],
   "source": [
    "CSV_FILE = \"/Users/nicolas/Downloads/test_angle_analyzer.csv\""
   ]
  },
  {
   "cell_type": "markdown",
   "metadata": {},
   "source": [
    "# Initialisation"
   ]
  },
  {
   "cell_type": "code",
   "execution_count": null,
   "metadata": {},
   "outputs": [],
   "source": [
    "DataAnalyzer: data_analyzer.DataAnalyzer = data_analyzer.DataAnalyzer(CSV_FILE)\n",
    "Visualizer: data_visualizer.DataVisualizer = data_visualizer.DataVisualizer()"
   ]
  },
  {
   "cell_type": "markdown",
   "metadata": {},
   "source": [
    "# Data Import"
   ]
  },
  {
   "cell_type": "code",
   "execution_count": null,
   "metadata": {},
   "outputs": [],
   "source": [
    "data: pd.DataFrame = DataAnalyzer.read_csv_data()"
   ]
  },
  {
   "cell_type": "markdown",
   "metadata": {},
   "source": [
    "# Data Processing"
   ]
  },
  {
   "cell_type": "code",
   "execution_count": null,
   "metadata": {},
   "outputs": [],
   "source": [
    "AngleAnalyzer: angle_analyzer.AngleAnalyzer = DataAnalyzer.construct_angle_analyzer()\n",
    "data_processed: pd.DataFrame = DataAnalyzer.process_data(data, AngleAnalyzer)"
   ]
  },
  {
   "cell_type": "markdown",
   "metadata": {},
   "source": [
    "# Visualisation"
   ]
  },
  {
   "cell_type": "code",
   "execution_count": null,
   "metadata": {},
   "outputs": [],
   "source": [
    "Visualizer.visualize_points_position(data_processed)"
   ]
  },
  {
   "cell_type": "markdown",
   "metadata": {},
   "source": [
    "# Export Data"
   ]
  },
  {
   "cell_type": "code",
   "execution_count": null,
   "metadata": {},
   "outputs": [],
   "source": [
    "DataAnalyzer.export_to_csv(data_processed)"
   ]
  },
  {
   "cell_type": "markdown",
   "metadata": {},
   "source": [
    "# Report"
   ]
  },
  {
   "cell_type": "code",
   "execution_count": null,
   "metadata": {},
   "outputs": [],
   "source": [
    "print(f\"You lost {len(data)-len(data_processed)} rows of data due to processing. The data loss is supposed to be {constants.ANGLE_FUTURE_THRESHOLD + constants.ANGLE_PAST_THRESHOLD} rows, which can be calculated by adding the ANGLE_FUTURE_THRESHOLD and the ANGLE_PAST_TRESHOLD.\")\n",
    "print()\n",
    "print(f\"The average accuracy of the AngleAnalyzer algorithm and the past / future tresholds of {constants.ANGLE_PAST_THRESHOLD} / {constants.ANGLE_FUTURE_THRESHOLD} for points on a straight line can be defined as follows:\")\n",
    "print(f\"--> average r_value: {round(data_processed[data_processed['position_int'] == 0]['average_r_value'].mean(), 2)}\")\n",
    "print(f\"--> average p_value: {round(data_processed[data_processed['position_int'] == 0]['average_p_value'].mean(), 2)}\")\n",
    "print(f\"--> average std_err: {round(data_processed[data_processed['position_int'] == 0]['average_std_err'].mean(), 2)}\")\n",
    "print()\n",
    "print(\"A linear regression can be considered as a good fit if the r_value is close to 1, the p_value is close to 0 and the std_err is close to 0.\")\n",
    "print()\n",
    "print(f\"The system found {(data_processed['position_int'] == 0).sum()} points on straight lines, whereas the amount of points on a curve is {(data_processed['position_int'] == 1).sum()}. The expected amount of points on a curve is {len(data_processed) - (data_processed['position_int'] == 0).sum()}, which can be calculated by subtracting the count of points on a straight line from the total point count.\")\n",
    "print()\n",
    "print(f\"In total, you lost {round((data_processed[\"position_int\"] == 1).sum() / len(data_processed) * 100, 2)}% of the data after applying the AngleAnalyzer algorithm as you can only use the points on a straight line for further processing.\")"
   ]
  },
  {
   "cell_type": "markdown",
   "metadata": {},
   "source": [
    "# System Info"
   ]
  },
  {
   "cell_type": "code",
   "execution_count": null,
   "metadata": {},
   "outputs": [],
   "source": [
    "print(f\"@ Version {constants.VERSION}\")\n",
    "print(f\"@ Author {constants.AUTHOR}\")\n",
    "print(f\"@ Author Email {constants.AUTHOR_EMAIL}\")\n",
    "print(f\"@ Author URL {constants.AUTHOR_URL}\")\n",
    "print(f\"@ GitHub URL {constants.GITHUB_URL}\")"
   ]
  }
 ],
 "metadata": {
  "kernelspec": {
   "display_name": "Python 3",
   "language": "python",
   "name": "python3"
  },
  "language_info": {
   "codemirror_mode": {
    "name": "ipython",
    "version": 3
   },
   "file_extension": ".py",
   "mimetype": "text/x-python",
   "name": "python",
   "nbconvert_exporter": "python",
   "pygments_lexer": "ipython3",
   "version": "3.12.0"
  }
 },
 "nbformat": 4,
 "nbformat_minor": 2
}
