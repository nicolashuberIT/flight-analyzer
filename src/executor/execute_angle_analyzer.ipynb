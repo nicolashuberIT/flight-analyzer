{
 "cells": [
  {
   "cell_type": "markdown",
   "metadata": {},
   "source": [
    "# Documentation\n",
    "\n",
    "This notebook executes the `AngleAnalyzer` algorithm class. The `AngleAnalyzer` class is designed to analyze flight trajectories at a specific point by examining the angles between successive points. It reads flight data from a CSV file and calculates angles between points, determining if they form a straight line or a curve. Using provided thresholds, it extracts past and future coordinates, filters out zero angles, and performs both angle-based and linear regression analyses. These analyses help classify flight segments as either straight lines or curves. \n",
    "\n",
    "Input:\n",
    "- `.csv` file of format (processed using `FileConverter`) `timestamp [UTC],relative altitude [m],horizontal velocity [m/s],vertical velocity [m/s],distance to takeoff [km],longitude,latitude`\n",
    "\n",
    "Output:\n",
    "- None"
   ]
  },
  {
   "cell_type": "markdown",
   "metadata": {},
   "source": [
    "# Imports"
   ]
  },
  {
   "cell_type": "code",
   "execution_count": null,
   "metadata": {},
   "outputs": [],
   "source": [
    "import os\n",
    "import sys\n",
    "import pandas as pd\n",
    "\n",
    "# AI content (GitHub Copilot, 02/07/2024), verified and adapted by Nicolas Huber.\n",
    "src_directory: str = os.path.join(os.getcwd(), \"..\")\n",
    "sys.path.append(src_directory)\n",
    "\n",
    "import constants as constants\n",
    "import helpers.data_visualizer as datavisualizer\n",
    "import algorithms.angle_analyzer as angleanalyzer"
   ]
  },
  {
   "cell_type": "markdown",
   "metadata": {},
   "source": [
    "# Variables"
   ]
  },
  {
   "cell_type": "code",
   "execution_count": null,
   "metadata": {},
   "outputs": [],
   "source": [
    "# 200 expects linear (true), 270 expects curve (false), 400 expects overlap (false), 1400 expects straight line (true), 1320 expects end of curve (true), 1200 expects start of curve (false)\n",
    "INDEX: int = 1400\n",
    "CSV_FILE: str = \"/Users/nicolas/Dropbox/3_Bildung/2 KZO/Stichwortverzeichnis/0 Maturarbeit/6 Wettbewerbe/1_SJf/3_Coaching/2_Projekt/software/flight-analyzer/docs/datasets/tracklogs/2_normalized/20211016_tracklog-normalized_nicolas-huber.csv\""
   ]
  },
  {
   "cell_type": "markdown",
   "metadata": {},
   "source": [
    "# Initialisation"
   ]
  },
  {
   "cell_type": "code",
   "execution_count": null,
   "metadata": {},
   "outputs": [],
   "source": [
    "Analyzer: angleanalyzer.AngleAnalyzer = angleanalyzer.AngleAnalyzer(\n",
    "    csv_file=CSV_FILE,\n",
    "    latest_threshold=constants.ANGLE_PAST_THRESHOLD,\n",
    "    future_threshold=constants.ANGLE_FUTURE_THRESHOLD,\n",
    "    angle_threshold=constants.ANGLE_THRESHOLD,\n",
    "    linear_regression_threshold=constants.LINEAR_REGRESSION_THRESHOLD\n",
    ")\n",
    "Visualizer: datavisualizer.DataVisualizer = datavisualizer.DataVisualizer()"
   ]
  },
  {
   "cell_type": "markdown",
   "metadata": {},
   "source": [
    "# Data Import"
   ]
  },
  {
   "cell_type": "code",
   "execution_count": null,
   "metadata": {},
   "outputs": [],
   "source": [
    "data: pd.DataFrame = Analyzer.read_csv_file()\n",
    "\n",
    "print(\"lenght: \" + str(len(data)))\n",
    "print()\n",
    "print(data)"
   ]
  },
  {
   "cell_type": "markdown",
   "metadata": {},
   "source": [
    "# Analyze Coordintes"
   ]
  },
  {
   "cell_type": "code",
   "execution_count": null,
   "metadata": {},
   "outputs": [],
   "source": [
    "latest_coordinates: pd.DataFrame = Analyzer.extract_latest_coordinates(df=data, i=INDEX)\n",
    "future_coordinates: pd.DataFrame = Analyzer.extract_future_coordinates(df=data, i=INDEX)\n",
    "\n",
    "print(\"Past Coordinates\")\n",
    "print(\"--> lenght: \" + str(len(latest_coordinates)))\n",
    "print()\n",
    "print(latest_coordinates)\n",
    "print()\n",
    "\n",
    "print(\"Future Coordinates\")\n",
    "print(\"--> lenght: \" + str(len(future_coordinates)))\n",
    "print()\n",
    "print(future_coordinates)"
   ]
  },
  {
   "cell_type": "markdown",
   "metadata": {},
   "source": [
    "# Calculate Angles"
   ]
  },
  {
   "cell_type": "code",
   "execution_count": null,
   "metadata": {},
   "outputs": [],
   "source": [
    "angles_past: pd.DataFrame = Analyzer.cut_zero_angles(\n",
    "    Analyzer.calculate_angles(df=latest_coordinates)\n",
    ")\n",
    "angles_future: pd.DataFrame = Analyzer.cut_zero_angles(\n",
    "    Analyzer.calculate_angles(df=future_coordinates)\n",
    ")\n",
    "\n",
    "print(\"Past Angles\")\n",
    "print(\"--> lenght: \" + str(len(angles_past)))\n",
    "print()\n",
    "print(angles_past)\n",
    "\n",
    "print()\n",
    "\n",
    "print(\"Future Angles\")\n",
    "print(\"--> lenght: \" + str(len(angles_future)))\n",
    "print()\n",
    "print(angles_future)"
   ]
  },
  {
   "cell_type": "markdown",
   "metadata": {},
   "source": [
    "# Visualisation"
   ]
  },
  {
   "cell_type": "code",
   "execution_count": null,
   "metadata": {},
   "outputs": [],
   "source": [
    "Visualizer.visualize_points_colored(df=data, relative=INDEX)\n",
    "Visualizer.visualize_points_2d(df=latest_coordinates, relative=0, linear=True, title=\"Vergangenheit\")\n",
    "Visualizer.visualize_points_2d(df=future_coordinates, relative=0, linear=True, title=\"Zukunft\")\n",
    "Visualizer.visualize_angles(past_angles=angles_past, future_angles=angles_future)"
   ]
  },
  {
   "cell_type": "markdown",
   "metadata": {},
   "source": [
    "# Analysis"
   ]
  },
  {
   "cell_type": "code",
   "execution_count": null,
   "metadata": {},
   "outputs": [],
   "source": [
    "status_angle_past: bool = Analyzer.analyze_angles(angles=angles_past)\n",
    "status_angle_future: bool = Analyzer.analyze_angles(angles=angles_future)\n",
    "(\n",
    "    status_regression_past,\n",
    "    slope_past,\n",
    "    intercept_past,\n",
    "    r_value_past,\n",
    "    p_value_past,\n",
    "    std_err_past,\n",
    ") = Analyzer.analyze_linear_regression(df=latest_coordinates)\n",
    "(\n",
    "    status_regression_future,\n",
    "    slope_future,\n",
    "    intercept_future,\n",
    "    r_value_future,\n",
    "    p_value_future,\n",
    "    std_err_future,\n",
    ") = Analyzer.analyze_linear_regression(df=future_coordinates)\n",
    "\n",
    "print(\"Angle Analysis\")\n",
    "print(\"--> Past: \" + str(status_angle_past))\n",
    "print(\"--> Future: \" + str(status_angle_future))\n",
    "\n",
    "print()\n",
    "\n",
    "print(\"Past Linear Regression\")\n",
    "print(\"--> Status: \" + str(status_regression_past))\n",
    "print(\"--> Slope: \" + str(slope_past))\n",
    "print(\"--> Intercept: \" + str(intercept_past))\n",
    "print(\"--> R-Value: \" + str(r_value_past))\n",
    "print(\"--> P-Value: \" + str(p_value_past))\n",
    "print(\"--> Standard Error: \" + str(std_err_past))\n",
    "\n",
    "print()\n",
    "\n",
    "print(\"Future Linear Regression\")\n",
    "print(\"--> Status: \" + str(status_regression_future))\n",
    "print(\"--> Slope: \" + str(slope_future))\n",
    "print(\"--> Intercept: \" + str(intercept_future))\n",
    "print(\"--> R-Value: \" + str(r_value_future))\n",
    "print(\"--> P-Value: \" + str(p_value_future))\n",
    "print(\"--> Standard Error: \" + str(std_err_future))\n",
    "\n",
    "print()\n",
    "\n",
    "print(\"Data Analysis\")\n",
    "print(\n",
    "    f\"--> Status: {Analyzer.analyze_data(status_angle_past, status_regression_past, status_angle_future, status_regression_future)}\"\n",
    ")"
   ]
  },
  {
   "cell_type": "markdown",
   "metadata": {},
   "source": [
    "# System Info"
   ]
  },
  {
   "cell_type": "code",
   "execution_count": null,
   "metadata": {},
   "outputs": [],
   "source": [
    "print(f\"@ Author {constants.AUTHOR}\")\n",
    "print(f\"@ Author Email {constants.AUTHOR_EMAIL}\")\n",
    "print(f\"@ Author URL {constants.AUTHOR_URL}\")\n",
    "print(f\"@ GitHub URL {constants.GITHUB_URL}\")"
   ]
  }
 ],
 "metadata": {
  "kernelspec": {
   "display_name": "Python 3",
   "language": "python",
   "name": "python3"
  },
  "language_info": {
   "codemirror_mode": {
    "name": "ipython",
    "version": 3
   },
   "file_extension": ".py",
   "mimetype": "text/x-python",
   "name": "python",
   "nbconvert_exporter": "python",
   "pygments_lexer": "ipython3",
   "version": "3.12.0"
  }
 },
 "nbformat": 4,
 "nbformat_minor": 2
}
