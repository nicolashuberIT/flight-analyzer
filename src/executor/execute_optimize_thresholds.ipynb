{
 "cells": [
  {
   "cell_type": "markdown",
   "metadata": {},
   "source": [
    "# Documentation\n",
    "\n",
    "The `ThresholdOptimizer` class optimizes thresholds for the `AngleAnalyzer` algorithm by systematically testing different combinations and scoring them based on specified criteria. It iteratively evaluates threshold combinations using a `DataAnalyzer` object, calculating scores derived from linear regression values and weighted metrics. The class then selects the best-scoring threshold combinations and exports the tested combinations to a CSV file. By providing insights into the trade-offs between different threshold settings, this class enables the fine-tuning of the `AngleAnalyzer` to achieve optimal performance.\n",
    "\n",
    "Input:\n",
    "- `.csv` file of format (processed using `FileConverter`) `timestamp [UTC],relative altitude [m],horizontal velocity [m/s],vertical velocity [m/s],distance to takeoff [km],longitude,latitude`\n",
    "\n",
    "Output:\n",
    "- `.csv` file of format `angle_past_threshold,angle_future_threshold,average_r_value,average_p_value,average_std_err,score,data_loss`"
   ]
  },
  {
   "cell_type": "markdown",
   "metadata": {},
   "source": [
    "# Imports"
   ]
  },
  {
   "cell_type": "code",
   "execution_count": null,
   "metadata": {},
   "outputs": [],
   "source": [
    "import os\n",
    "import sys\n",
    "import pandas as pd\n",
    "\n",
    "# AI content (GitHub Copilot, 02/07/2024), verified and adapted by Nicolas Huber.\n",
    "src_directory: str = os.path.join(os.getcwd(), \"..\")\n",
    "sys.path.append(src_directory)\n",
    "\n",
    "import constants as constants\n",
    "import helpers.data_analyzer as dataanalyzer\n",
    "import helpers.optimize_thresholds as optimizer\n",
    "import helpers.data_visualizer as datavisualizer"
   ]
  },
  {
   "cell_type": "markdown",
   "metadata": {},
   "source": [
    "# Variables"
   ]
  },
  {
   "cell_type": "code",
   "execution_count": null,
   "metadata": {},
   "outputs": [],
   "source": [
    "CSV_FILE: str = \"CSV_FILE\""
   ]
  },
  {
   "cell_type": "markdown",
   "metadata": {},
   "source": [
    "# Conditions"
   ]
  },
  {
   "cell_type": "code",
   "execution_count": null,
   "metadata": {},
   "outputs": [],
   "source": [
    "print(\"The automated threshold optimizer is executed for the following configuration:\")\n",
    "print(f\"--> CSV file: {CSV_FILE}\")\n",
    "print(f\"--> Runtime estimation: {constants.OPTIMIZATION_RUNTIME_ESTIMATION} seconds per iteration\")\n",
    "print(f\"--> Optimization limit: {constants.OPTIMIZATION_LIMIT}\")\n",
    "print(f\"--> Optimization step size: {constants.OPTIMIZATION_STEPS}\")"
   ]
  },
  {
   "cell_type": "markdown",
   "metadata": {},
   "source": [
    "# Initialisation"
   ]
  },
  {
   "cell_type": "code",
   "execution_count": null,
   "metadata": {},
   "outputs": [],
   "source": [
    "Optimizer: optimizer.ThresholdOptimizer = optimizer.ThresholdOptimizer(\n",
    "    csv_file=CSV_FILE,\n",
    "    r_value_weight=constants.R_VALUE_WEIGHT,\n",
    "    p_value_weight=constants.P_VALUE_WEIGHT,\n",
    "    std_error_weight=constants.STD_ERROR_WEIGHT,\n",
    "    limit=constants.OPTIMIZATION_LIMIT,\n",
    "    steps=constants.OPTIMIZATION_STEPS,\n",
    "    runtime_estimation=constants.OPTIMIZATION_RUNTIME_ESTIMATION\n",
    ")\n",
    "DataAnalyzer: dataanalyzer.DataAnalyzer = Optimizer.construct_data_analyzer()\n",
    "Visualizer: datavisualizer.DataVisualizer = datavisualizer.DataVisualizer()"
   ]
  },
  {
   "cell_type": "markdown",
   "metadata": {},
   "source": [
    "# Data Import"
   ]
  },
  {
   "cell_type": "code",
   "execution_count": null,
   "metadata": {},
   "outputs": [],
   "source": [
    "data: pd.DataFrame = DataAnalyzer.read_csv_data()"
   ]
  },
  {
   "cell_type": "markdown",
   "metadata": {},
   "source": [
    "# Visualize Flight"
   ]
  },
  {
   "cell_type": "code",
   "execution_count": null,
   "metadata": {},
   "outputs": [],
   "source": [
    "Visualizer.visualize_points_colored(data)"
   ]
  },
  {
   "cell_type": "markdown",
   "metadata": {},
   "source": [
    "# Optimization"
   ]
  },
  {
   "cell_type": "code",
   "execution_count": null,
   "metadata": {},
   "outputs": [],
   "source": [
    "optimization = Optimizer.optimize_thresholds(data=data, DataAnalyzer=DataAnalyzer)\n",
    "Optimizer.export_to_csv(results=optimization)\n",
    "optimized_index: int = Optimizer.calculate_optimized_data_loss(data=optimization)"
   ]
  },
  {
   "cell_type": "markdown",
   "metadata": {},
   "source": [
    "# Dataset\n",
    "\n",
    "Ordered in descending order by score."
   ]
  },
  {
   "cell_type": "code",
   "execution_count": null,
   "metadata": {},
   "outputs": [],
   "source": [
    "optimization"
   ]
  },
  {
   "cell_type": "markdown",
   "metadata": {},
   "source": [
    "# Visualisation"
   ]
  },
  {
   "cell_type": "code",
   "execution_count": null,
   "metadata": {},
   "outputs": [],
   "source": [
    "Visualizer.visualize_optimization_linear_regression(data=optimization)\n",
    "Visualizer.visualize_score_by_data_loss(data=optimization, index=optimized_index)\n",
    "Visualizer.visualize_optimization_score(data=optimization)\n",
    "Visualizer.visualize_optimization_rvalues(data=optimization)\n",
    "Visualizer.visualize_optimization_pvalues(data=optimization)\n",
    "Visualizer.visualize_optimization_stderrs(data=optimization)"
   ]
  },
  {
   "cell_type": "markdown",
   "metadata": {},
   "source": [
    "# Report"
   ]
  },
  {
   "cell_type": "code",
   "execution_count": null,
   "metadata": {},
   "outputs": [],
   "source": [
    "print(\"Individual thresholds with the best score:\")\n",
    "print(f\"--> past_threshold_optimized: {Optimizer.past_threshold_optimized}\")\n",
    "print(f\"--> future_threshold_optimized: {Optimizer.future_threshold_optimized}\")\n",
    "print()\n",
    "\n",
    "print(\"Below is a tabular overview of the 5 best scores and their thresholds. This information is more meaningful here, as in the analysis later for the evaluation of a point, both the future and the past are taken into account, and thus the score considers the interaction of the two thresholds.\")"
   ]
  },
  {
   "cell_type": "code",
   "execution_count": null,
   "metadata": {},
   "outputs": [],
   "source": [
    "Optimizer.best_scores"
   ]
  },
  {
   "cell_type": "code",
   "execution_count": null,
   "metadata": {},
   "outputs": [],
   "source": [
    "print(f\"The best performing thresholds are {Optimizer.best_scores.iloc[0, 0]} (angle_past_threshold) and {Optimizer.best_scores.iloc[0, 1]} (angle_future_threshold) with a score of {Optimizer.best_scores.iloc[0, 5]}.\")\n",
    "print()\n",
    "print(f\"Another good performing set of thresholds can be found by comparing the data loss relative to the scores, which are directly related to the thresholds. In this case, the best performing thresholds are {optimization.iloc[optimized_index, 0]} (angle_past_threshold) and {optimization.iloc[optimized_index, 1]} (angle_future_threshold) with a score of {optimization.iloc[optimized_index, 5]} and a data loss of {optimization.iloc[optimized_index, 6]}. The bigger the difference between the score and the data loss, the better the thresholds are. This is the case because the precison of the thresholds is overall better if less data is lost, even if there is a small decrease in the score.\")"
   ]
  },
  {
   "cell_type": "markdown",
   "metadata": {},
   "source": [
    "# System Info"
   ]
  },
  {
   "cell_type": "code",
   "execution_count": null,
   "metadata": {},
   "outputs": [],
   "source": [
    "print(f\"@ Author {constants.AUTHOR}\")\n",
    "print(f\"@ Author Email {constants.AUTHOR_EMAIL}\")\n",
    "print(f\"@ Author URL {constants.AUTHOR_URL}\")\n",
    "print(f\"@ GitHub URL {constants.GITHUB_URL}\")"
   ]
  }
 ],
 "metadata": {
  "kernelspec": {
   "display_name": "Python 3",
   "language": "python",
   "name": "python3"
  },
  "language_info": {
   "codemirror_mode": {
    "name": "ipython",
    "version": 3
   },
   "file_extension": ".py",
   "mimetype": "text/x-python",
   "name": "python",
   "nbconvert_exporter": "python",
   "pygments_lexer": "ipython3",
   "version": "3.12.0"
  }
 },
 "nbformat": 4,
 "nbformat_minor": 2
}
