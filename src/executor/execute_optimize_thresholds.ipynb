{
 "cells": [
  {
   "cell_type": "markdown",
   "metadata": {},
   "source": [
    "# Imports"
   ]
  },
  {
   "cell_type": "code",
   "execution_count": 1,
   "metadata": {},
   "outputs": [],
   "source": [
    "import os\n",
    "import sys\n",
    "import pandas as pd\n",
    "\n",
    "# AI content (GitHub Copilot, 02/07/2024), verified and adapted by Nicolas Huber.\n",
    "src_directory: str = os.path.join(os.getcwd(), \"..\")\n",
    "sys.path.append(src_directory)\n",
    "\n",
    "from helpers import data_analyzer as data_analyzer\n",
    "from algorithms import angle_analyzer as angle_analyzer\n",
    "from helpers import data_visualizer as data_visualizer\n",
    "from helpers import optimize_thresholds as optimizer\n",
    "import constants as constants"
   ]
  },
  {
   "cell_type": "markdown",
   "metadata": {},
   "source": [
    "# Variables"
   ]
  },
  {
   "cell_type": "code",
   "execution_count": 2,
   "metadata": {},
   "outputs": [],
   "source": [
    "CSV_FILE = \"/Users/nicolas/Downloads/test_angle_analyzer.csv\""
   ]
  },
  {
   "cell_type": "markdown",
   "metadata": {},
   "source": [
    "# Initialisation"
   ]
  },
  {
   "cell_type": "code",
   "execution_count": 3,
   "metadata": {},
   "outputs": [],
   "source": [
    "Optimizer: optimizer.ThresholdOptimizer = optimizer.ThresholdOptimizer(\n",
    "    CSV_FILE,\n",
    "    constants.R_VALUE_WEIGHT,\n",
    "    constants.P_VALUE_WEIGHT,\n",
    "    constants.STD_ERROR_WEIGHT,\n",
    "    constants.OPTIMIZATION_LIMIT,\n",
    "    constants.OPTIMIZATION_STEPS,\n",
    ")\n",
    "AngleAnalyzer: angle_analyzer.AngleAnalyzer = angle_analyzer.AngleAnalyzer(\n",
    "    CSV_FILE,\n",
    "    constants.ANGLE_PAST_THRESHOLD,\n",
    "    constants.ANGLE_FUTURE_THRESHOLD,\n",
    "    constants.ANGLE_THRESHOLD,\n",
    "    constants.LINEAR_REGRESSION_THRESHOLD,\n",
    ")\n",
    "DataAnalyzer: data_analyzer.DataAnalyzer = Optimizer.construct_data_analyzer()\n",
    "Visualizer: data_visualizer.DataVisualizer = data_visualizer.DataVisualizer()"
   ]
  },
  {
   "cell_type": "markdown",
   "metadata": {},
   "source": [
    "# Data Import"
   ]
  },
  {
   "cell_type": "code",
   "execution_count": 4,
   "metadata": {},
   "outputs": [],
   "source": [
    "data: pd.DataFrame = AngleAnalyzer.read_csv_file()"
   ]
  },
  {
   "cell_type": "markdown",
   "metadata": {},
   "source": [
    "# Optimization"
   ]
  },
  {
   "cell_type": "code",
   "execution_count": 5,
   "metadata": {},
   "outputs": [
    {
     "name": "stdout",
     "output_type": "stream",
     "text": [
      "Iteration f = 10, p = 10 from 4:\n",
      "--> Testing thresholds...\n",
      "--> Results:\n",
      "----> ANGLE_PAST_THRESHOLD: 10\n",
      "----> ANGLE_FUTURE_THRESHOLD: 10\n",
      "----> AVERAGE_R_VALUE: 0.5175449878654688\n",
      "----> AVERAGE_P_VALUE: 6.701246656526688e-06\n",
      "----> AVERAGE_STD_ERR: 0.03359707851462494\n",
      "----> SCORE: 0.3071652744938218\n",
      "--> Appending results...\n",
      "--> Preparing next iteration...\n",
      "\n",
      "Iteration f = 10, p = 15 from 4:\n",
      "--> Testing thresholds...\n"
     ]
    },
    {
     "name": "stderr",
     "output_type": "stream",
     "text": [
      "/Users/nicolas/Dropbox/3_Bildung/2 KZO/Stichwortverzeichnis/0 Maturarbeit/6 Wettbewerbe/1_SJf/3_Coaching/2_Projekt/software/flight-analyzer/src/executor/../helpers/optimize_thresholds.py:185: FutureWarning: The behavior of DataFrame concatenation with empty or all-NA entries is deprecated. In a future version, this will no longer exclude empty or all-NA columns when determining the result dtypes. To retain the old behavior, exclude the relevant entries before the concat operation.\n",
      "  results = pd.concat(\n"
     ]
    },
    {
     "name": "stdout",
     "output_type": "stream",
     "text": [
      "--> Results:\n",
      "----> ANGLE_PAST_THRESHOLD: 10\n",
      "----> ANGLE_FUTURE_THRESHOLD: 15\n",
      "----> AVERAGE_R_VALUE: 0.5417478691429849\n",
      "----> AVERAGE_P_VALUE: 3.2838485170747637e-06\n",
      "----> AVERAGE_STD_ERR: 0.029394758423173736\n",
      "----> SCORE: 0.3221082604889185\n",
      "--> Appending results...\n",
      "--> Preparing next iteration...\n",
      "\n",
      "Iteration f = 15, p = 10 from 4:\n",
      "--> Testing thresholds...\n",
      "--> Results:\n",
      "----> ANGLE_PAST_THRESHOLD: 15\n",
      "----> ANGLE_FUTURE_THRESHOLD: 10\n",
      "----> AVERAGE_R_VALUE: 0.5499468867151431\n",
      "----> AVERAGE_P_VALUE: 3.5637364500074367e-06\n",
      "----> AVERAGE_STD_ERR: 0.030190935951329934\n",
      "----> SCORE: 0.3269479693130179\n",
      "--> Appending results...\n",
      "--> Preparing next iteration...\n",
      "\n",
      "Iteration f = 15, p = 15 from 4:\n",
      "--> Testing thresholds...\n",
      "--> Results:\n",
      "----> ANGLE_PAST_THRESHOLD: 15\n",
      "----> ANGLE_FUTURE_THRESHOLD: 15\n",
      "----> AVERAGE_R_VALUE: 0.5640762918947841\n",
      "----> AVERAGE_P_VALUE: 8.312257353463449e-08\n",
      "----> AVERAGE_STD_ERR: 0.026097411671770824\n",
      "----> SCORE: 0.3358360090329213\n",
      "--> Appending results...\n",
      "--> Preparing next iteration...\n",
      "\n"
     ]
    }
   ],
   "source": [
    "optimization = Optimizer.optimize_thresholds(data, DataAnalyzer, AngleAnalyzer)"
   ]
  },
  {
   "cell_type": "code",
   "execution_count": 6,
   "metadata": {},
   "outputs": [
    {
     "data": {
      "text/html": [
       "<div>\n",
       "<style scoped>\n",
       "    .dataframe tbody tr th:only-of-type {\n",
       "        vertical-align: middle;\n",
       "    }\n",
       "\n",
       "    .dataframe tbody tr th {\n",
       "        vertical-align: top;\n",
       "    }\n",
       "\n",
       "    .dataframe thead th {\n",
       "        text-align: right;\n",
       "    }\n",
       "</style>\n",
       "<table border=\"1\" class=\"dataframe\">\n",
       "  <thead>\n",
       "    <tr style=\"text-align: right;\">\n",
       "      <th></th>\n",
       "      <th>angle_past_threshold</th>\n",
       "      <th>angle_future_threshold</th>\n",
       "      <th>average_r_value</th>\n",
       "      <th>average_p_value</th>\n",
       "      <th>average_std_err</th>\n",
       "      <th>score</th>\n",
       "    </tr>\n",
       "  </thead>\n",
       "  <tbody>\n",
       "    <tr>\n",
       "      <th>0</th>\n",
       "      <td>10</td>\n",
       "      <td>10</td>\n",
       "      <td>0.517545</td>\n",
       "      <td>6.701247e-06</td>\n",
       "      <td>0.033597</td>\n",
       "      <td>0.307165</td>\n",
       "    </tr>\n",
       "    <tr>\n",
       "      <th>1</th>\n",
       "      <td>10</td>\n",
       "      <td>15</td>\n",
       "      <td>0.541748</td>\n",
       "      <td>3.283849e-06</td>\n",
       "      <td>0.029395</td>\n",
       "      <td>0.322108</td>\n",
       "    </tr>\n",
       "    <tr>\n",
       "      <th>2</th>\n",
       "      <td>15</td>\n",
       "      <td>10</td>\n",
       "      <td>0.549947</td>\n",
       "      <td>3.563736e-06</td>\n",
       "      <td>0.030191</td>\n",
       "      <td>0.326948</td>\n",
       "    </tr>\n",
       "    <tr>\n",
       "      <th>3</th>\n",
       "      <td>15</td>\n",
       "      <td>15</td>\n",
       "      <td>0.564076</td>\n",
       "      <td>8.312257e-08</td>\n",
       "      <td>0.026097</td>\n",
       "      <td>0.335836</td>\n",
       "    </tr>\n",
       "  </tbody>\n",
       "</table>\n",
       "</div>"
      ],
      "text/plain": [
       "  angle_past_threshold angle_future_threshold  average_r_value  \\\n",
       "0                   10                     10         0.517545   \n",
       "1                   10                     15         0.541748   \n",
       "2                   15                     10         0.549947   \n",
       "3                   15                     15         0.564076   \n",
       "\n",
       "   average_p_value  average_std_err     score  \n",
       "0     6.701247e-06         0.033597  0.307165  \n",
       "1     3.283849e-06         0.029395  0.322108  \n",
       "2     3.563736e-06         0.030191  0.326948  \n",
       "3     8.312257e-08         0.026097  0.335836  "
      ]
     },
     "execution_count": 6,
     "metadata": {},
     "output_type": "execute_result"
    }
   ],
   "source": [
    "optimization"
   ]
  },
  {
   "cell_type": "code",
   "execution_count": 7,
   "metadata": {},
   "outputs": [
    {
     "name": "stdout",
     "output_type": "stream",
     "text": [
      "Optimierte Werte:\n",
      "--> 15\n",
      "--> 15\n"
     ]
    }
   ],
   "source": [
    "print(\"Optimierte Werte:\")\n",
    "print(f\"--> {Optimizer.past_threshold_optimized}\")\n",
    "print(f\"--> {Optimizer.future_threshold_optimized}\")"
   ]
  }
 ],
 "metadata": {
  "kernelspec": {
   "display_name": "Python 3",
   "language": "python",
   "name": "python3"
  },
  "language_info": {
   "codemirror_mode": {
    "name": "ipython",
    "version": 3
   },
   "file_extension": ".py",
   "mimetype": "text/x-python",
   "name": "python",
   "nbconvert_exporter": "python",
   "pygments_lexer": "ipython3",
   "version": "3.12.0"
  }
 },
 "nbformat": 4,
 "nbformat_minor": 2
}
