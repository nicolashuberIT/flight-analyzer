{
 "cells": [
  {
   "cell_type": "markdown",
   "metadata": {},
   "source": [
    "# Documentation\n",
    "\n",
    "This utility allows you to convert a large number of .igc files to .csv files.\n",
    "\n",
    "Inputs:\n",
    "- INPUT_DIRECTORY: path to directory containing the .igc files, end with /\n",
    "- OUTPUT_DIRECTORY: path to directory where data should be exported to, end with /\n",
    "- FILE_EXTENSION: set to `.igc`"
   ]
  },
  {
   "cell_type": "markdown",
   "metadata": {},
   "source": [
    "# Imports"
   ]
  },
  {
   "cell_type": "code",
   "execution_count": null,
   "metadata": {},
   "outputs": [],
   "source": [
    "import os\n",
    "import sys\n",
    "import pandas as pd\n",
    "\n",
    "# AI content (GitHub Copilot, 02/07/2024), verified and adapted by Nicolas Huber.\n",
    "src_directory: str = os.path.join(os.getcwd(), \"..\")\n",
    "sys.path.append(src_directory)\n",
    "\n",
    "import constants as constants\n",
    "import packages.IGC2CSV as igc2csv"
   ]
  },
  {
   "cell_type": "markdown",
   "metadata": {},
   "source": [
    "# Variables"
   ]
  },
  {
   "cell_type": "code",
   "execution_count": null,
   "metadata": {},
   "outputs": [],
   "source": [
    "INPUT_DIRECTORY: str = \"path/to/directory\" # end with /\n",
    "OUTPUT_DIRECTORY: str = \"path/to/directory\" # end with /\n",
    "FILE_EXTENSION: str = \".igc\""
   ]
  },
  {
   "cell_type": "markdown",
   "metadata": {},
   "source": [
    "# Initialisation"
   ]
  },
  {
   "cell_type": "code",
   "execution_count": null,
   "metadata": {},
   "outputs": [],
   "source": [
    "convertor: igc2csv.IGC2CSV = igc2csv.IGC2CSV()"
   ]
  },
  {
   "cell_type": "markdown",
   "metadata": {},
   "source": [
    "# Process Files"
   ]
  },
  {
   "cell_type": "code",
   "execution_count": null,
   "metadata": {},
   "outputs": [],
   "source": [
    "print(\"Processing IGC files...\")\n",
    "\n",
    "for igc_file in [f for f in os.listdir(INPUT_DIRECTORY) if f.endswith(FILE_EXTENSION)]:\n",
    "    result: pd.DataFrame = convertor.process_files(f\"{INPUT_DIRECTORY}{igc_file}\", False)\n",
    "    result_flight_analyzer: pd.DataFrame = convertor.export_to_flight_analyzer_format(\n",
    "        result\n",
    "    )\n",
    "    convertor.export_to_csv(data=result_flight_analyzer, filename=f\"{OUTPUT_DIRECTORY}{igc_file.replace(FILE_EXTENSION, '.csv')}\")\n",
    "    print(f\"--> Processed {igc_file} and saved as {igc_file.replace(FILE_EXTENSION, '.csv')}\")"
   ]
  },
  {
   "cell_type": "markdown",
   "metadata": {},
   "source": [
    "# System Info"
   ]
  },
  {
   "cell_type": "code",
   "execution_count": null,
   "metadata": {},
   "outputs": [],
   "source": [
    "print(f\"@ Author {constants.AUTHOR}\")\n",
    "print(f\"@ Author Email {constants.AUTHOR_EMAIL}\")\n",
    "print(f\"@ Author URL {constants.AUTHOR_URL}\")\n",
    "print(f\"@ GitHub URL {constants.GITHUB_URL}\")"
   ]
  }
 ],
 "metadata": {
  "kernelspec": {
   "display_name": "Python 3",
   "language": "python",
   "name": "python3"
  },
  "language_info": {
   "codemirror_mode": {
    "name": "ipython",
    "version": 3
   },
   "file_extension": ".py",
   "mimetype": "text/x-python",
   "name": "python",
   "nbconvert_exporter": "python",
   "pygments_lexer": "ipython3",
   "version": "3.12.0"
  }
 },
 "nbformat": 4,
 "nbformat_minor": 2
}
